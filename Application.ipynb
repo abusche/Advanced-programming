{
 "cells": [
  {
   "cell_type": "code",
   "execution_count": 1,
   "id": "99a4a2f1-91a8-4556-b330-dd0ec5305369",
   "metadata": {},
   "outputs": [],
   "source": [
    "import os\n",
    "from langchain_openai import ChatOpenAI\n",
    "from langchain_core.vectorstores import InMemoryVectorStore\n",
    "from langchain_openai import OpenAIEmbeddings\n",
    "from langchain_text_splitters import RecursiveCharacterTextSplitter\n",
    "from langchain.chains import create_retrieval_chain\n",
    "from langchain.chains.combine_documents import create_stuff_documents_chain\n",
    "from langchain_core.prompts import PromptTemplate\n",
    "from langchain_core.prompts import ChatPromptTemplate\n",
    "from dotenv import load_dotenv\n",
    "from menu_functions import get_menu, detect_language, translate_text, change_context\n",
    "from langchain.schema import Document\n",
    "\n",
    "def crous():\n",
    "    path = \"C:/Users/busch/OneDrive/Documents/Fac/M2/UE1 - Advanced programming and data visualization/Advanced Programming/projet/environment/\"\n",
    "    load_dotenv(f\"{path}.env\")\n",
    "    os.environ[\"OPENAI_API_KEY\"] = os.getenv(\"OPENAI_API_KEY\")\n",
    "    \n",
    "    llm = ChatOpenAI(model=\"gpt-3.5-turbo\")\n",
    "    question = input(\"Your question: \")\n",
    "    history = []\n",
    "    language = detect_language(question)\n",
    "    change = False\n",
    "    \n",
    "    while question.lower() != \"exit\":\n",
    "        # Ajouter la dernière question à l'historique\n",
    "        history.append({\"role\": \"user\", \"content\": question})\n",
    "        if change == False:\n",
    "            menu, restaurant_name = get_menu(question)\n",
    "            menus = translate_text(menu, language)\n",
    "            \n",
    "            # Traitement brut du texte\n",
    "            text_splitter = RecursiveCharacterTextSplitter(chunk_size=1000, chunk_overlap=200)\n",
    "            splits = text_splitter.split_text(menus)\n",
    "\n",
    "            # Transformer le texte en objets Document\n",
    "            documents = [Document(page_content=split) for split in splits]\n",
    "\n",
    "            # Création du VectorStore\n",
    "            vectorstore = InMemoryVectorStore.from_documents(\n",
    "                documents=documents, embedding=OpenAIEmbeddings()\n",
    "            )\n",
    "            retriever = vectorstore.as_retriever()\n",
    "\n",
    "            # Prompt\n",
    "            system_prompt = (\n",
    "                \"You are an assistant for question-answering tasks about the menu of university restaurant. \"\n",
    "                \"If you don't specify a specific dish, you should always give today's meal or the nearest one. \"\n",
    "                \"If I ask you a question about a restaurant and you don't have the menu of this restaurant, say: 'No context'.\"\n",
    "                \"If you are unable to provide specific menu information for a restaurant for a date, say : 'No context'.\"\n",
    "                \"Use the following pieces of retrieved context to answer the question. \"\n",
    "                \"Use bullet points when it's necessary. \"\n",
    "                \"The menu will be sent to you in markdown text format. After the menu, you find the allergies part. Never show the allergen part in your answer. \"\n",
    "                \"You're also an allergy specialist. Allergies are explained in brackets. If there are allergens, you must write a message at the end, for example: ‘Warning! Allergens such as lactose or hazelnuts may be present in this menu'. \"\n",
    "                \"When I ask you about allergies, always answer about the allergies of the menu that we talked about before, never all the allergies of all menus.\"\n",
    "            )\n",
    "\n",
    "            # Ajouter la variable context dans le modèle\n",
    "            prompt_template = PromptTemplate(\n",
    "                input_variables=[system_prompt, \"input\"],\n",
    "                template=\"{context}\\n\\nHuman: {input}\"\n",
    "            )\n",
    "            \n",
    "            question_answer_chain = create_stuff_documents_chain(llm, prompt_template)\n",
    "            rag_chain = create_retrieval_chain(retriever, question_answer_chain)\n",
    "\n",
    "        # Inclure l'historique dans l'entrée\n",
    "        full_input = {\"context\": \"\\n\".join([f\"{h['role']}: {h['content']}\" for h in history]), \"input\": question}\n",
    "\n",
    "        results = rag_chain.invoke(full_input)\n",
    "    \n",
    "        answer = results.get(\"answer\")#, \"No context.\")\n",
    "        translated_answer = translate_text(answer, language)\n",
    "        print(translated_answer)\n",
    "\n",
    "        history.append({\"role\": \"assistant\", \"content\": answer})\n",
    "\n",
    "        # Demander la prochaine question\n",
    "        question = input(\"Your question: \")\n",
    "        change = change_context(question, restaurant_name)\n",
    "        if change == False:\n",
    "            history = []"
   ]
  },
  {
   "cell_type": "code",
   "execution_count": 3,
   "id": "2bd112bd-46bc-472a-8580-7341d59dad70",
   "metadata": {},
   "outputs": [
    {
     "name": "stdin",
     "output_type": "stream",
     "text": [
      "Your question:  Give me the menu at Gallia\n"
     ]
    },
    {
     "name": "stdout",
     "output_type": "stream",
     "text": [
      "Here is the menu for dinner at Gallia on Monday, January 13, 2025:\n",
      "\n",
      "STUDENT MENU:\n",
      "- Beef fricadelle with curry sauce\n",
      "- Peas\n",
      "- Macaroni\n",
      "\n",
      "VEGETARIAN MENU:\n",
      "- Vegetarian nuggets\n",
      "- Peas\n",
      "- Macaroni\n",
      "\n",
      "Please note the allergens for each dish:\n",
      "- Beef fricadelle with curry sauce: Contains Gluten and Lactose\n",
      "- Macaroni: Contains Gluten, Lactose, and Nut\n",
      "\n",
      "Enjoy your meal!\n"
     ]
    },
    {
     "name": "stdin",
     "output_type": "stream",
     "text": [
      "Your question:  Give me the menu at Esplanade\n"
     ]
    },
    {
     "name": "stdout",
     "output_type": "stream",
     "text": [
      "Here is the menu for Monday, January 13, 2025 at Esplanade for dinner on the 1st floor for students:\n",
      "\n",
      "Main Course:\n",
      "- Beef fricadelle with cream sauce\n",
      "- Green beans\n",
      "- Roasted potatoes\n",
      "- Arrabiata pasta gratin\n",
      "\n",
      "Desserts:\n",
      "- Paris-Brest\n",
      "- Lemon tart\n",
      "- Apple compote with speculoos\n",
      "\n",
      "Please note the allergens listed for each dish. Enjoy your meal!\n"
     ]
    },
    {
     "name": "stdin",
     "output_type": "stream",
     "text": [
      "Your question:  I am lactose intolerant\n"
     ]
    },
    {
     "name": "stdout",
     "output_type": "stream",
     "text": [
      "\n",
      "No problem! Here are some lactose-free options for you:\n",
      "\n",
      "- Arrabiata pasta gratin\n",
      "- Lemon tart (without the crust)\n",
      "- Apple compote with speculoos\n",
      "\n",
      "Enjoy your meal!\n"
     ]
    },
    {
     "name": "stdin",
     "output_type": "stream",
     "text": [
      "Your question:  Exit\n"
     ]
    }
   ],
   "source": [
    "crous()"
   ]
  }
 ],
 "metadata": {
  "kernelspec": {
   "display_name": "Python 3 (ipykernel)",
   "language": "python",
   "name": "python3"
  },
  "language_info": {
   "codemirror_mode": {
    "name": "ipython",
    "version": 3
   },
   "file_extension": ".py",
   "mimetype": "text/x-python",
   "name": "python",
   "nbconvert_exporter": "python",
   "pygments_lexer": "ipython3",
   "version": "3.12.4"
  }
 },
 "nbformat": 4,
 "nbformat_minor": 5
}
