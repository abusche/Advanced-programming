{
 "cells": [
  {
   "cell_type": "code",
   "execution_count": 48,
   "id": "a9abc5fa-c282-4b82-87ef-dc1c10d916b7",
   "metadata": {},
   "outputs": [],
   "source": [
    "from selenium import webdriver\n",
    "from selenium.webdriver.common.by import By\n",
    "from selenium.webdriver.support.ui import WebDriverWait\n",
    "from selenium.webdriver.support import expected_conditions as EC\n",
    "from datetime import datetime\n",
    "import locale  # to get french time\n",
    "import pandas as pd\n",
    "import time\n",
    "import sqlite3  # for SQL conversion"
   ]
  },
  {
   "cell_type": "code",
   "execution_count": 17,
   "id": "78678e97-33e1-4a45-a235-a02698de508d",
   "metadata": {},
   "outputs": [],
   "source": [
    "resto_url = 'https://www.crous-strasbourg.fr/restaurant/cafeteria-le-pege-2/'"
   ]
  },
  {
   "cell_type": "code",
   "execution_count": 33,
   "id": "b40d6508-2c9b-42b5-98d8-40a3aaca8d8a",
   "metadata": {},
   "outputs": [],
   "source": [
    "# Function to scrape the full menu of a restaurant\n",
    "def scrape_full_menu(resto_url):\n",
    "    menuInfo = {\"day\": [], \"lunch\": [], \"dinner\": []}\n",
    "\n",
    "    driver = webdriver.Firefox()\n",
    "\n",
    "    # Access the restaurant's page\n",
    "    driver.get(resto_url)\n",
    "\n",
    "    # Wait for the page to load the \"HORAIRES\" element in the info section\n",
    "    element = WebDriverWait(driver, 10).until(\n",
    "        EC.text_to_be_present_in_element((By.CSS_SELECTOR, 'div.info'), \"HORAIRES\")\n",
    "    )\n",
    "\n",
    "    try:\n",
    "        # Try to reject cookies\n",
    "        reject_all = driver.find_element(By.XPATH, \"/html/body/div[6]/div/div[2]/div/div[2]/button[1]\")\n",
    "        reject_all.click()\n",
    "    except Exception:\n",
    "        try:\n",
    "            reject_all = driver.find_element(By.ID, \"tru_deselect_btn\")\n",
    "            reject_all.click()\n",
    "        except Exception:\n",
    "            pass  # Ignore if the reject window is not found\n",
    "\n",
    "    # Scrape all menu information\n",
    "    driver.execute_script(\"window.scrollBy(0, 300);\")\n",
    "    time.sleep(0.5)\n",
    "    date_elements = driver.find_elements(By.CSS_SELECTOR, 'time.menu_date_title')\n",
    "\n",
    "    meal_div = driver.find_elements(By.CSS_SELECTOR, 'div.meal')\n",
    "    meals = []\n",
    "    for meal in meal_div:\n",
    "        if meal.text != \"\":\n",
    "            meals.append(meal.text)\n",
    "\n",
    "    # Extract the scraped day\n",
    "    scraped_day = ' '.join(date_elements[0].text.split()[2:5])\n",
    "    menuInfo[\"day\"].append(scraped_day)\n",
    "\n",
    "    # Extract the meals (lunch and dinner)\n",
    "       # Extract the meals (lunch and dinner)\n",
    "    if len(meals) == 2:\n",
    "        lunch = meals[0].replace('\\n', ' ')  # Ensure correct format for lunch\n",
    "        dinner = meals[1].replace('\\n', ' ')  # Ensure correct format for dinner\n",
    "    elif len(meals) == 1:\n",
    "        lunch = meals[0].replace('\\n', ' ')\n",
    "        dinner = \"\"\n",
    "    else:\n",
    "        lunch = \"\"\n",
    "        dinner = \"\"\n",
    "\n",
    "    # Append lunch and dinner data with line breaks\n",
    "    menuInfo[\"lunch\"].append(lunch)\n",
    "    menuInfo[\"dinner\"].append(dinner)\n",
    "\n",
    "    driver.quit()\n",
    "\n",
    "    # Convert the results into a DataFrame\n",
    "    menuInfo_df = pd.DataFrame(menuInfo)\n",
    "\n",
    "    # Return the DataFrame\n",
    "    return menuInfo_df\n",
    "\n",
    "# Function to filter the menu by a specific day and meal\n",
    "def filter_menu(menuInfo_df, specific_day, specific_meal):\n",
    "    filtered_menu = menuInfo_df[menuInfo_df['day'] == specific_day]\n",
    "\n",
    "    if specific_meal == \"lunch\":\n",
    "        return filtered_menu[['day', 'lunch']]\n",
    "    elif specific_meal == \"dinner\":\n",
    "        return filtered_menu[['day', 'dinner']]\n",
    "    else:\n",
    "        return filtered_menu"
   ]
  },
  {
   "cell_type": "code",
   "execution_count": 35,
   "id": "3b9ea5ad-b55e-4928-ab31-8f876719622f",
   "metadata": {},
   "outputs": [
    {
     "name": "stdout",
     "output_type": "stream",
     "text": [
      "mercredi 16 octobre\n",
      "Full menu DataFrame:\n",
      "                   day                                              lunch  \\\n",
      "0  mercredi 16 octobre  Déjeuner Petit-déjeuner Café & Viennoiseries 7...   \n",
      "\n",
      "  dinner  \n",
      "0         \n",
      "\n",
      "Filtered menu for mercredi 16 octobre (lunch):\n",
      "                   day                                              lunch\n",
      "0  mercredi 16 octobre  Déjeuner Petit-déjeuner Café & Viennoiseries 7...\n"
     ]
    }
   ],
   "source": [
    "# Set french localisation for month and day of the week\n",
    "locale.setlocale(locale.LC_TIME, 'fr_FR.UTF-8')\n",
    "\n",
    "# Function to get today's date in the format used by the menu (e.g., \"jeudi 10 octobre\")\n",
    "def get_today_date():\n",
    "    # Ottieni la data odierna\n",
    "    today = datetime.today()\n",
    "    # Formatta la data nel formato \"jeudi 10 octobre\"\n",
    "    formatted_date = today.strftime(\"%A %d %B\")\n",
    "    return formatted_date\n",
    "\n",
    "# Function to filter the menu by a specific day and meal\n",
    "def filter_menu(menuInfo_df, specific_day, specific_meal):\n",
    "    filtered_menu = menuInfo_df[menuInfo_df['day'] == specific_day]\n",
    "\n",
    "    if specific_meal == \"lunch\":\n",
    "        return filtered_menu[['day', 'lunch']]\n",
    "    elif specific_meal == \"dinner\":\n",
    "        return filtered_menu[['day', 'dinner']]\n",
    "    else:\n",
    "        return filtered_menu\n",
    "\n",
    "# Example usage: Scraping the full menu of a single restaurant and filtering it\n",
    "resto_url = \"https://www.crous-strasbourg.fr/restaurant/cafeteria-le-pege-2/\"  # Restaurant URL\n",
    "specific_day = get_today_date()  # Automatically get today's date\n",
    "print(specific_day)\n",
    "specific_meal = \"lunch\"  # Specific meal (\"lunch\" or \"dinner\")\n",
    "\n",
    "# Call the function to scrape the full menu of the restaurant\n",
    "menuInfo_df = scrape_full_menu(resto_url)\n",
    "\n",
    "# Display the full DataFrame (all days and meals scraped from the page)\n",
    "print(\"Full menu DataFrame:\")\n",
    "print(menuInfo_df)\n",
    "\n",
    "# Filter the menu by the specific day and meal\n",
    "filtered_menu = filter_menu(menuInfo_df, specific_day, specific_meal)\n",
    "\n",
    "# Display the filtered result\n",
    "print(f\"\\nFiltered menu for {specific_day} ({specific_meal}):\")\n",
    "print(filtered_menu)"
   ]
  },
  {
   "cell_type": "code",
   "execution_count": 37,
   "id": "a2e9d1e9-335e-4d9c-9b22-71baf68ecd05",
   "metadata": {},
   "outputs": [
    {
     "name": "stdout",
     "output_type": "stream",
     "text": [
      "Déjeuner Petit-déjeuner Café & Viennoiseries 7h30 -10h30 Plat du jour Omelette au fromage Ratatouille Gratin de pommes de terre ou Frites Végétarien Cappelletis 5 fromages, sauce crème Roquette & parmesan Origine de nos viandes du jour FRANCE\n"
     ]
    }
   ],
   "source": [
    "print(menuInfo_df['lunch'][0])"
   ]
  },
  {
   "cell_type": "code",
   "execution_count": 50,
   "id": "e7d935e1-bb41-45ab-96b3-6b3cf555f9ce",
   "metadata": {},
   "outputs": [
    {
     "name": "stdout",
     "output_type": "stream",
     "text": [
      "                   day                                              lunch  \\\n",
      "0  mercredi 16 octobre  Déjeuner Petit-déjeuner Café & Viennoiseries 7...   \n",
      "\n",
      "  dinner  \n",
      "0         \n"
     ]
    }
   ],
   "source": [
    "# Convert the dataframe into SQL file\n",
    "# Connect to an SQLite database (or create it if it doesn't exist)\n",
    "conn = sqlite3.connect('menu.db')\n",
    "\n",
    "# Convert the DataFrame to SQL\n",
    "menuInfo_df.to_sql('menu', conn, if_exists='replace', index=False)\n",
    "\n",
    "# Verify the insertion by reading back the data\n",
    "df_from_sql = pd.read_sql_query(\"SELECT * FROM menu\", conn)\n",
    "print(df_from_sql)\n",
    "\n",
    "# Close the connection\n",
    "conn.close()"
   ]
  },
  {
   "cell_type": "code",
   "execution_count": null,
   "id": "55a9c1ee-bd2e-4fd7-b5c3-e668e1e57e83",
   "metadata": {},
   "outputs": [],
   "source": []
  }
 ],
 "metadata": {
  "kernelspec": {
   "display_name": "Python 3 (ipykernel)",
   "language": "python",
   "name": "python3"
  },
  "language_info": {
   "codemirror_mode": {
    "name": "ipython",
    "version": 3
   },
   "file_extension": ".py",
   "mimetype": "text/x-python",
   "name": "python",
   "nbconvert_exporter": "python",
   "pygments_lexer": "ipython3",
   "version": "3.11.5"
  }
 },
 "nbformat": 4,
 "nbformat_minor": 5
}
