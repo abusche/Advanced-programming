{
 "cells": [
  {
   "cell_type": "code",
   "execution_count": null,
   "id": "0c9c982b-11b0-44ba-97f2-feb711177d83",
   "metadata": {},
   "outputs": [],
   "source": [
    "import os\n",
    "import time\n",
    "from langchain_openai import ChatOpenAI\n",
    "from langchain_core.vectorstores import InMemoryVectorStore\n",
    "from langchain_openai import OpenAIEmbeddings\n",
    "from langchain_text_splitters import RecursiveCharacterTextSplitter\n",
    "from langchain.chains import create_retrieval_chain\n",
    "from langchain.chains.combine_documents import create_stuff_documents_chain\n",
    "from langchain_core.prompts import ChatPromptTemplate\n",
    "from dotenv import load_dotenv\n",
    "from langchain_community.document_loaders import PyPDFLoader\n",
    "from menu_functions import get_menu, detect_language, translate_text\n",
    "from langchain.schema import Document\n",
    "\n",
    "def rag_gpt():\n",
    "    path = \"C:/Users/busch/OneDrive/Documents/Fac/M2/UE1 - Advanced programming and data visualization/Advanced Programming/projet/environment/\"\n",
    "    \n",
    "    load_dotenv(f\"{path}.env\")\n",
    "    os.environ[\"OPENAI_API_KEY\"] = os.getenv(\"OPENAI_API_KEY\")\n",
    "    \n",
    "    llm = ChatOpenAI(model=\"gpt-3.5-turbo\")  \n",
    "    \n",
    "    context = False\n",
    "    question = input(\"Your question: \")\n",
    "    question_language = detect_language(question)\n",
    "    question = translate_text(question, \"en\")\n",
    "    \n",
    "    while question != \"Exit\":\n",
    "        if context == True:\n",
    "            question = input(\"Your question: \")\n",
    "            question_language = detect_language(question)\n",
    "            question = translate_text(question, \"en\")\n",
    "        else:\n",
    "            menus = get_menu(question)\n",
    "            # Raw text processing\n",
    "            text_splitter = RecursiveCharacterTextSplitter(chunk_size=1000, chunk_overlap=200)\n",
    "            splits = text_splitter.split_text(menus)\n",
    "            \n",
    "            # Transforming text into objects \n",
    "            documents = [Document(page_content=split) for split in splits]\n",
    "            \n",
    "            # Creation of the vectorstore\n",
    "            vectorstore = InMemoryVectorStore.from_documents(\n",
    "                documents=documents, embedding=OpenAIEmbeddings()\n",
    "            )\n",
    "            retriever = vectorstore.as_retriever()\n",
    "\n",
    "            # Prompt\n",
    "            system_prompt = (\n",
    "                \"You are an assistant for question-answering tasks about the menu of university restaurant. \"\n",
    "                \"If you don't specify a specific dish, you should always give today's meal or the nearest one. \"\n",
    "                \"If i answer you a question about a restaurant and you don't have the contexte of this restaurant, say : 'No context'\" \n",
    "                \"Use the following pieces of retrieved context to answer \"\n",
    "                \"the question. If you don't know the answer, say that you \"\n",
    "                \"don't know. Use bullet point when it's necessary.\"\n",
    "                \"\\n\\n\"\n",
    "                \"{context}\"\n",
    "            )\n",
    "            \n",
    "            prompt = ChatPromptTemplate.from_messages(\n",
    "                [\n",
    "                    (\"system\", system_prompt),\n",
    "                    (\"human\", \"{input}\"),\n",
    "                ]\n",
    "            )\n",
    "\n",
    "            question_answer_chain = create_stuff_documents_chain(llm, prompt)\n",
    "            rag_chain = create_retrieval_chain(retriever, question_answer_chain)\n",
    "            \n",
    "            context = True\n",
    "\n",
    "        if question != \"Exit\":\n",
    "            results = rag_chain.invoke({\"input\": question})\n",
    "            if results[\"answer\"] == 'No context.' or results[\"answer\"] == 'No context':\n",
    "                context = False\n",
    "            else:\n",
    "                print(translate_text(results[\"answer\"], question_language))\n"
   ]
  },
  {
   "cell_type": "code",
   "execution_count": 3,
   "id": "2bd112bd-46bc-472a-8580-7341d59dad70",
   "metadata": {},
   "outputs": [
    {
     "name": "stdout",
     "output_type": "stream",
     "text": [
      "Your question:  What is the menu at Esplanade for this diner ?\n"
     ]
    },
    {
     "name": "stdout",
     "output_type": "stream",
     "text": [
      "Menu du mardi 3 décembre 2024 à Esplanade pour le diner :\n",
      "\n",
      "Menus étudiants 2ème étage\n",
      "- Cordon bleu, sauce crème maison\n",
      "- Haricots beurre\n",
      "- Purée de pommes de terre\n",
      " \n",
      "- Bourguignon de champignons maison\n",
      "- Purée de pommes de terre\n",
      "\n",
      "Desserts 2ème étage\n",
      "- Financier aux myrtilles\n",
      "- Eclair vanille\n",
      "- Mini donut\n",
      "\n",
      "Origines de nos viandes du jour\n",
      "- Volaille origine France\n"
     ]
    },
    {
     "name": "stdout",
     "output_type": "stream",
     "text": [
      "Your question:  Exit\n"
     ]
    }
   ],
   "source": [
    "rag_gpt()"
   ]
  }
 ],
 "metadata": {
  "kernelspec": {
   "display_name": "Python 3 (ipykernel)",
   "language": "python",
   "name": "python3"
  },
  "language_info": {
   "codemirror_mode": {
    "name": "ipython",
    "version": 3
   },
   "file_extension": ".py",
   "mimetype": "text/x-python",
   "name": "python",
   "nbconvert_exporter": "python",
   "pygments_lexer": "ipython3",
   "version": "3.12.4"
  }
 },
 "nbformat": 4,
 "nbformat_minor": 5
}
