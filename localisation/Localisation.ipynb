{
 "cells": [
  {
   "cell_type": "markdown",
   "id": "ae202cbf-df8a-44ee-a5e6-3901e16239f3",
   "metadata": {},
   "source": [
    "# Calcul de la distance à vol d'oiseau"
   ]
  },
  {
   "cell_type": "code",
   "execution_count": 1,
   "id": "c58c28ac-68e2-459b-8b05-34065030a17c",
   "metadata": {},
   "outputs": [],
   "source": [
    "import geocoder\n",
    "import geopy\n",
    "from geopy.distance import geodesic\n",
    "import pandas as pd\n",
    "import folium\n",
    "from geopy.distance import great_circle\n",
    "from geopy.geocoders import Nominatim"
   ]
  },
  {
   "cell_type": "code",
   "execution_count": 22,
   "id": "95d0c323-cb45-42e0-968e-a598f455896f",
   "metadata": {},
   "outputs": [
    {
     "data": {
      "text/plain": [
       "(7.6797073, -11.9915311)"
      ]
     },
     "execution_count": 22,
     "metadata": {},
     "output_type": "execute_result"
    }
   ],
   "source": [
    "# Get GPS coordinates of the restaurant\n",
    "def get_gps_coordinates(location):\n",
    "    geolocator = Nominatim(user_agent=\"my_gps_app\")\n",
    "    location_info = geolocator.geocode(location)\n",
    "    if location_info:\n",
    "        latitude = location_info.latitude\n",
    "        longitude = location_info.longitude\n",
    "        return latitude, longitude\n",
    "    else:\n",
    "        return None\n",
    "\n",
    "rest_coordinates = get_gps_coordinates(\"PEGE\")\n",
    "rest_coordinates"
   ]
  },
  {
   "cell_type": "code",
   "execution_count": 4,
   "id": "b46e6153-a203-4a67-9b30-fc30e4f46f23",
   "metadata": {},
   "outputs": [
    {
     "name": "stdout",
     "output_type": "stream",
     "text": [
      "1.35 km\n"
     ]
    }
   ],
   "source": [
    "# Get my GPS coordinates\n",
    "def get_current_gps_coordinates():\n",
    "    g = geocoder.ip('me')\n",
    "    if g.latlng is not None:\n",
    "        return g.latlng\n",
    "    else:\n",
    "        return None\n",
    "\n",
    "if __name__ == \"__main__\":\n",
    "    my_coordinates = get_current_gps_coordinates()\n",
    "    if my_coordinates is not None:\n",
    "        latitude, longitude = my_coordinates\n",
    "\n",
    "# Measure the distance\n",
    "point1 = rest_coordinates\n",
    "point2 = (latitude, longitude)\n",
    "\n",
    "dist_great_circle = great_circle(point1, point2).kilometers\n",
    "print(round(dist_great_circle, 2), 'km')"
   ]
  },
  {
   "cell_type": "code",
   "execution_count": 5,
   "id": "1374956e-b7ac-4649-b5e4-bb68e40ecfec",
   "metadata": {
    "collapsed": true,
    "jupyter": {
     "outputs_hidden": true
    },
    "scrolled": true
   },
   "outputs": [
    {
     "data": {
      "text/html": [
       "<div style=\"width:100%;\"><div style=\"position:relative;width:100%;height:0;padding-bottom:60%;\"><span style=\"color:#565656\">Make this Notebook Trusted to load map: File -> Trust Notebook</span><iframe srcdoc=\"&lt;!DOCTYPE html&gt;\n",
       "&lt;html&gt;\n",
       "&lt;head&gt;\n",
       "    \n",
       "    &lt;meta http-equiv=&quot;content-type&quot; content=&quot;text/html; charset=UTF-8&quot; /&gt;\n",
       "    \n",
       "        &lt;script&gt;\n",
       "            L_NO_TOUCH = false;\n",
       "            L_DISABLE_3D = false;\n",
       "        &lt;/script&gt;\n",
       "    \n",
       "    &lt;style&gt;html, body {width: 100%;height: 100%;margin: 0;padding: 0;}&lt;/style&gt;\n",
       "    &lt;style&gt;#map {position:absolute;top:0;bottom:0;right:0;left:0;}&lt;/style&gt;\n",
       "    &lt;script src=&quot;https://cdn.jsdelivr.net/npm/leaflet@1.9.3/dist/leaflet.js&quot;&gt;&lt;/script&gt;\n",
       "    &lt;script src=&quot;https://code.jquery.com/jquery-3.7.1.min.js&quot;&gt;&lt;/script&gt;\n",
       "    &lt;script src=&quot;https://cdn.jsdelivr.net/npm/bootstrap@5.2.2/dist/js/bootstrap.bundle.min.js&quot;&gt;&lt;/script&gt;\n",
       "    &lt;script src=&quot;https://cdnjs.cloudflare.com/ajax/libs/Leaflet.awesome-markers/2.0.2/leaflet.awesome-markers.js&quot;&gt;&lt;/script&gt;\n",
       "    &lt;link rel=&quot;stylesheet&quot; href=&quot;https://cdn.jsdelivr.net/npm/leaflet@1.9.3/dist/leaflet.css&quot;/&gt;\n",
       "    &lt;link rel=&quot;stylesheet&quot; href=&quot;https://cdn.jsdelivr.net/npm/bootstrap@5.2.2/dist/css/bootstrap.min.css&quot;/&gt;\n",
       "    &lt;link rel=&quot;stylesheet&quot; href=&quot;https://netdna.bootstrapcdn.com/bootstrap/3.0.0/css/bootstrap-glyphicons.css&quot;/&gt;\n",
       "    &lt;link rel=&quot;stylesheet&quot; href=&quot;https://cdn.jsdelivr.net/npm/@fortawesome/fontawesome-free@6.2.0/css/all.min.css&quot;/&gt;\n",
       "    &lt;link rel=&quot;stylesheet&quot; href=&quot;https://cdnjs.cloudflare.com/ajax/libs/Leaflet.awesome-markers/2.0.2/leaflet.awesome-markers.css&quot;/&gt;\n",
       "    &lt;link rel=&quot;stylesheet&quot; href=&quot;https://cdn.jsdelivr.net/gh/python-visualization/folium/folium/templates/leaflet.awesome.rotate.min.css&quot;/&gt;\n",
       "    \n",
       "            &lt;meta name=&quot;viewport&quot; content=&quot;width=device-width,\n",
       "                initial-scale=1.0, maximum-scale=1.0, user-scalable=no&quot; /&gt;\n",
       "            &lt;style&gt;\n",
       "                #map_95ea0bddd3221f109337b633745fe065 {\n",
       "                    position: relative;\n",
       "                    width: 100.0%;\n",
       "                    height: 100.0%;\n",
       "                    left: 0.0%;\n",
       "                    top: 0.0%;\n",
       "                }\n",
       "                .leaflet-container { font-size: 1rem; }\n",
       "            &lt;/style&gt;\n",
       "        \n",
       "&lt;/head&gt;\n",
       "&lt;body&gt;\n",
       "    \n",
       "    \n",
       "            &lt;div class=&quot;folium-map&quot; id=&quot;map_95ea0bddd3221f109337b633745fe065&quot; &gt;&lt;/div&gt;\n",
       "        \n",
       "&lt;/body&gt;\n",
       "&lt;script&gt;\n",
       "    \n",
       "    \n",
       "            var map_95ea0bddd3221f109337b633745fe065 = L.map(\n",
       "                &quot;map_95ea0bddd3221f109337b633745fe065&quot;,\n",
       "                {\n",
       "                    center: [48.5839, 7.7455],\n",
       "                    crs: L.CRS.EPSG3857,\n",
       "                    zoom: 12,\n",
       "                    zoomControl: true,\n",
       "                    preferCanvas: false,\n",
       "                }\n",
       "            );\n",
       "\n",
       "            \n",
       "\n",
       "        \n",
       "    \n",
       "            var tile_layer_c92a3752488591102af98c0e3fc1b15a = L.tileLayer(\n",
       "                &quot;https://tile.openstreetmap.org/{z}/{x}/{y}.png&quot;,\n",
       "                {&quot;attribution&quot;: &quot;\\u0026copy; \\u003ca href=\\&quot;https://www.openstreetmap.org/copyright\\&quot;\\u003eOpenStreetMap\\u003c/a\\u003e contributors&quot;, &quot;detectRetina&quot;: false, &quot;maxNativeZoom&quot;: 19, &quot;maxZoom&quot;: 19, &quot;minZoom&quot;: 0, &quot;noWrap&quot;: false, &quot;opacity&quot;: 1, &quot;subdomains&quot;: &quot;abc&quot;, &quot;tms&quot;: false}\n",
       "            );\n",
       "        \n",
       "    \n",
       "            tile_layer_c92a3752488591102af98c0e3fc1b15a.addTo(map_95ea0bddd3221f109337b633745fe065);\n",
       "        \n",
       "    \n",
       "            var marker_7b508ce7688e7876006abf2524f1abe2 = L.marker(\n",
       "                [48.5839, 7.7455],\n",
       "                {}\n",
       "            ).addTo(map_95ea0bddd3221f109337b633745fe065);\n",
       "        \n",
       "    \n",
       "        var popup_c3dfd879151440af00f7a1fe6a5744cb = L.popup({&quot;maxWidth&quot;: &quot;100%&quot;});\n",
       "\n",
       "        \n",
       "            \n",
       "                var html_3afa3a2754a4bacf569fdc62471471d8 = $(`&lt;div id=&quot;html_3afa3a2754a4bacf569fdc62471471d8&quot; style=&quot;width: 100.0%; height: 100.0%;&quot;&gt;Point mystère n°1&lt;/div&gt;`)[0];\n",
       "                popup_c3dfd879151440af00f7a1fe6a5744cb.setContent(html_3afa3a2754a4bacf569fdc62471471d8);\n",
       "            \n",
       "        \n",
       "\n",
       "        marker_7b508ce7688e7876006abf2524f1abe2.bindPopup(popup_c3dfd879151440af00f7a1fe6a5744cb)\n",
       "        ;\n",
       "\n",
       "        \n",
       "    \n",
       "    \n",
       "            var marker_3efbee708db8edbacbade0bd8bfc80ad = L.marker(\n",
       "                [48.586280849999994, 7.7634516],\n",
       "                {}\n",
       "            ).addTo(map_95ea0bddd3221f109337b633745fe065);\n",
       "        \n",
       "    \n",
       "        var popup_cd77531c48ac0a5011df095e59ffbf5e = L.popup({&quot;maxWidth&quot;: &quot;100%&quot;});\n",
       "\n",
       "        \n",
       "            \n",
       "                var html_a7750e213f7ef23409ec57a8e4155675 = $(`&lt;div id=&quot;html_a7750e213f7ef23409ec57a8e4155675&quot; style=&quot;width: 100.0%; height: 100.0%;&quot;&gt;Point mystère n°2&lt;/div&gt;`)[0];\n",
       "                popup_cd77531c48ac0a5011df095e59ffbf5e.setContent(html_a7750e213f7ef23409ec57a8e4155675);\n",
       "            \n",
       "        \n",
       "\n",
       "        marker_3efbee708db8edbacbade0bd8bfc80ad.bindPopup(popup_cd77531c48ac0a5011df095e59ffbf5e)\n",
       "        ;\n",
       "\n",
       "        \n",
       "    \n",
       "&lt;/script&gt;\n",
       "&lt;/html&gt;\" style=\"position:absolute;width:100%;height:100%;left:0;top:0;border:none !important;\" allowfullscreen webkitallowfullscreen mozallowfullscreen></iframe></div></div>"
      ],
      "text/plain": [
       "<folium.folium.Map at 0x1c45eaa0c20>"
      ]
     },
     "execution_count": 5,
     "metadata": {},
     "output_type": "execute_result"
    }
   ],
   "source": [
    "# Create a map\n",
    "lat1 = my_coordinates[0]\n",
    "long1 = my_coordinates[1]\n",
    "lat2 = rest_coordinates[0]\n",
    "long2 = rest_coordinates[1]\n",
    "Map = folium.Map(location = [lat1, long1], zoom_start = 12)\n",
    "folium.Marker([lat1, long1], popup = \"Point mystère n°1\").add_to(Map)\n",
    "folium.Marker([lat2, long2], popup = \"Point mystère n°2\").add_to(Map)\n",
    "Map"
   ]
  },
  {
   "cell_type": "code",
   "execution_count": 6,
   "id": "0211ee9a-9eeb-47c7-ae80-30cffd15788e",
   "metadata": {},
   "outputs": [
    {
     "name": "stdout",
     "output_type": "stream",
     "text": [
      "Latitude: 48.5839, Longitude: 7.7455\n"
     ]
    }
   ],
   "source": [
    "import geocoder\n",
    "\n",
    "def get_gps_coordinates():\n",
    "    location = geocoder.ip('me')  # Gets location based on your public IP\n",
    "    if location.ok:\n",
    "        return location.latlng\n",
    "    else:\n",
    "        return None\n",
    "\n",
    "coordinates = get_gps_coordinates()\n",
    "if coordinates:\n",
    "    print(f\"Latitude: {coordinates[0]}, Longitude: {coordinates[1]}\")\n",
    "else:\n",
    "    print(\"Unable to get coordinates\")\n"
   ]
  },
  {
   "cell_type": "code",
   "execution_count": 7,
   "id": "1d24b62b-139f-46c4-a288-42a137d0c7a8",
   "metadata": {},
   "outputs": [
    {
     "data": {
      "text/plain": [
       "<[OK] Ipinfo - Geocode [Strasbourg, Grand Est, FR]>"
      ]
     },
     "execution_count": 7,
     "metadata": {},
     "output_type": "execute_result"
    }
   ],
   "source": [
    "geocoder.ip('me')"
   ]
  },
  {
   "cell_type": "code",
   "execution_count": 10,
   "id": "422d65d5-9c0c-4c9e-85c6-aec215038e1d",
   "metadata": {
    "collapsed": true,
    "jupyter": {
     "outputs_hidden": true
    }
   },
   "outputs": [
    {
     "ename": "ConnectionRefusedError",
     "evalue": "[WinError 10061] Aucune connexion n’a pu être établie car l’ordinateur cible l’a expressément refusée",
     "output_type": "error",
     "traceback": [
      "\u001b[1;31m---------------------------------------------------------------------------\u001b[0m",
      "\u001b[1;31mConnectionRefusedError\u001b[0m                    Traceback (most recent call last)",
      "Cell \u001b[1;32mIn[10], line 12\u001b[0m\n\u001b[0;32m      9\u001b[0m             longitude \u001b[38;5;241m=\u001b[39m \u001b[38;5;28mgetattr\u001b[39m(report, \u001b[38;5;124m'\u001b[39m\u001b[38;5;124mlon\u001b[39m\u001b[38;5;124m'\u001b[39m, \u001b[38;5;28;01mNone\u001b[39;00m)\n\u001b[0;32m     10\u001b[0m             \u001b[38;5;28;01mreturn\u001b[39;00m latitude, longitude\n\u001b[1;32m---> 12\u001b[0m latitude, longitude \u001b[38;5;241m=\u001b[39m get_gps_coordinates()\n\u001b[0;32m     13\u001b[0m \u001b[38;5;28mprint\u001b[39m(\u001b[38;5;124mf\u001b[39m\u001b[38;5;124m\"\u001b[39m\u001b[38;5;124mLatitude: \u001b[39m\u001b[38;5;132;01m{\u001b[39;00mlatitude\u001b[38;5;132;01m}\u001b[39;00m\u001b[38;5;124m, Longitude: \u001b[39m\u001b[38;5;132;01m{\u001b[39;00mlongitude\u001b[38;5;132;01m}\u001b[39;00m\u001b[38;5;124m\"\u001b[39m)\n",
      "Cell \u001b[1;32mIn[10], line 4\u001b[0m, in \u001b[0;36mget_gps_coordinates\u001b[1;34m()\u001b[0m\n\u001b[0;32m      3\u001b[0m \u001b[38;5;28;01mdef\u001b[39;00m \u001b[38;5;21mget_gps_coordinates\u001b[39m():\n\u001b[1;32m----> 4\u001b[0m     gpsd \u001b[38;5;241m=\u001b[39m gps\u001b[38;5;241m.\u001b[39mgps(mode\u001b[38;5;241m=\u001b[39mgps\u001b[38;5;241m.\u001b[39mWATCH_ENABLE)\n\u001b[0;32m      5\u001b[0m     \u001b[38;5;28;01mwhile\u001b[39;00m \u001b[38;5;28;01mTrue\u001b[39;00m:\n\u001b[0;32m      6\u001b[0m         report \u001b[38;5;241m=\u001b[39m gpsd\u001b[38;5;241m.\u001b[39mnext()\n",
      "File \u001b[1;32m~\\anaconda3\\Lib\\site-packages\\gps\\gps.py:197\u001b[0m, in \u001b[0;36mgps.__init__\u001b[1;34m(self, host, port, verbose, mode, reconnect)\u001b[0m\n\u001b[0;32m    195\u001b[0m \u001b[38;5;28mself\u001b[39m\u001b[38;5;241m.\u001b[39mreal_nsec \u001b[38;5;241m=\u001b[39m NaN\n\u001b[0;32m    196\u001b[0m \u001b[38;5;28mself\u001b[39m\u001b[38;5;241m.\u001b[39mserialmode \u001b[38;5;241m=\u001b[39m \u001b[38;5;124m\"\u001b[39m\u001b[38;5;124m8N1\u001b[39m\u001b[38;5;124m\"\u001b[39m\n\u001b[1;32m--> 197\u001b[0m gpscommon\u001b[38;5;241m.\u001b[39m\u001b[38;5;21m__init__\u001b[39m(\u001b[38;5;28mself\u001b[39m, host, port, verbose, reconnect)\n\u001b[0;32m    198\u001b[0m gpsdata\u001b[38;5;241m.\u001b[39m\u001b[38;5;21m__init__\u001b[39m(\u001b[38;5;28mself\u001b[39m)\n\u001b[0;32m    199\u001b[0m gpsjson\u001b[38;5;241m.\u001b[39m\u001b[38;5;21m__init__\u001b[39m(\u001b[38;5;28mself\u001b[39m)\n",
      "File \u001b[1;32m~\\anaconda3\\Lib\\site-packages\\gps\\client.py:43\u001b[0m, in \u001b[0;36mgpscommon.__init__\u001b[1;34m(self, host, port, verbose, should_reconnect)\u001b[0m\n\u001b[0;32m     41\u001b[0m \u001b[38;5;28;01mif\u001b[39;00m port \u001b[38;5;129;01mis\u001b[39;00m \u001b[38;5;129;01mnot\u001b[39;00m \u001b[38;5;28;01mNone\u001b[39;00m:\n\u001b[0;32m     42\u001b[0m     \u001b[38;5;28mself\u001b[39m\u001b[38;5;241m.\u001b[39mport \u001b[38;5;241m=\u001b[39m port\n\u001b[1;32m---> 43\u001b[0m \u001b[38;5;28mself\u001b[39m\u001b[38;5;241m.\u001b[39mconnect(\u001b[38;5;28mself\u001b[39m\u001b[38;5;241m.\u001b[39mhost, \u001b[38;5;28mself\u001b[39m\u001b[38;5;241m.\u001b[39mport)\n",
      "File \u001b[1;32m~\\anaconda3\\Lib\\site-packages\\gps\\client.py:69\u001b[0m, in \u001b[0;36mgpscommon.connect\u001b[1;34m(self, host, port)\u001b[0m\n\u001b[0;32m     67\u001b[0m \u001b[38;5;28mself\u001b[39m\u001b[38;5;241m.\u001b[39msock \u001b[38;5;241m=\u001b[39m socket\u001b[38;5;241m.\u001b[39msocket(af, socktype, proto)\n\u001b[0;32m     68\u001b[0m \u001b[38;5;66;03m# if self.debuglevel > 0: print 'connect:', (host, port)\u001b[39;00m\n\u001b[1;32m---> 69\u001b[0m \u001b[38;5;28mself\u001b[39m\u001b[38;5;241m.\u001b[39msock\u001b[38;5;241m.\u001b[39mconnect(sa)\n\u001b[0;32m     70\u001b[0m \u001b[38;5;28;01mif\u001b[39;00m \u001b[38;5;28mself\u001b[39m\u001b[38;5;241m.\u001b[39mverbose \u001b[38;5;241m>\u001b[39m \u001b[38;5;241m0\u001b[39m:\n\u001b[0;32m     71\u001b[0m     \u001b[38;5;28mprint\u001b[39m(\u001b[38;5;124m'\u001b[39m\u001b[38;5;124mconnected to tcp://\u001b[39m\u001b[38;5;132;01m{}\u001b[39;00m\u001b[38;5;124m:\u001b[39m\u001b[38;5;132;01m{}\u001b[39;00m\u001b[38;5;124m'\u001b[39m\u001b[38;5;241m.\u001b[39mformat(host, port))\n",
      "\u001b[1;31mConnectionRefusedError\u001b[0m: [WinError 10061] Aucune connexion n’a pu être établie car l’ordinateur cible l’a expressément refusée"
     ]
    }
   ],
   "source": [
    "import gps\n",
    "\n",
    "def get_gps_coordinates():\n",
    "    gpsd = gps.gps(mode=gps.WATCH_ENABLE)\n",
    "    while True:\n",
    "        report = gpsd.next()\n",
    "        if report['class'] == 'TPV':\n",
    "            latitude = getattr(report, 'lat', None)\n",
    "            longitude = getattr(report, 'lon', None)\n",
    "            return latitude, longitude\n",
    "\n",
    "latitude, longitude = get_gps_coordinates()\n",
    "print(f\"Latitude: {latitude}, Longitude: {longitude}\")"
   ]
  },
  {
   "cell_type": "code",
   "execution_count": 9,
   "id": "f8dd36e4-7e08-4706-9d44-ac6b6ae0c99e",
   "metadata": {},
   "outputs": [
    {
     "name": "stdout",
     "output_type": "stream",
     "text": [
      "Collecting gps\n",
      "  Downloading gps-3.19-py3-none-any.whl.metadata (217 bytes)\n",
      "Downloading gps-3.19-py3-none-any.whl (24 kB)\n",
      "Installing collected packages: gps\n",
      "Successfully installed gps-3.19\n",
      "Note: you may need to restart the kernel to use updated packages.\n"
     ]
    }
   ],
   "source": [
    "pip install gps"
   ]
  },
  {
   "cell_type": "code",
   "execution_count": 12,
   "id": "1ca0332f-989d-4ab5-b8ac-aa60d7f1578e",
   "metadata": {},
   "outputs": [
    {
     "name": "stdout",
     "output_type": "stream",
     "text": [
      "Your current GPS coordinates are:\n",
      "Latitude: 48.5839\n",
      "Longitude: 7.7455\n"
     ]
    }
   ],
   "source": [
    "import geocoder\n",
    "\n",
    "def get_current_gps_coordinates():\n",
    "    g = geocoder.ip('me')#this function is used to find the current information using our IP Add\n",
    "    if g.latlng is not None: #g.latlng tells if the coordiates are found or not\n",
    "        return g.latlng\n",
    "    else:\n",
    "        return None\n",
    "\n",
    "if __name__ == \"__main__\":\n",
    "    coordinates = get_current_gps_coordinates()\n",
    "    if coordinates is not None:\n",
    "        latitude, longitude = coordinates\n",
    "        print(f\"Your current GPS coordinates are:\")\n",
    "        print(f\"Latitude: {latitude}\")\n",
    "        print(f\"Longitude: {longitude}\")\n",
    "    else:\n",
    "        print(\"Unable to retrieve your GPS coordinates.\")"
   ]
  },
  {
   "cell_type": "code",
   "execution_count": 19,
   "id": "9588a765-3936-48d2-9d93-86b6a99baef2",
   "metadata": {},
   "outputs": [
    {
     "name": "stdout",
     "output_type": "stream",
     "text": [
      "Adresse approximative : Aubette, 31 Place Kléber, 67000 Strasbourg, France\n"
     ]
    }
   ],
   "source": [
    "from opencage.geocoder import OpenCageGeocode\n",
    "import requests\n",
    "\n",
    "# Clé API OpenCage\n",
    "API_KEY = \"12cde070ed2e48ccbb312a7fbae53c61\"\n",
    "\n",
    "def get_address_from_location():\n",
    "    # Obtenir les coordonnées géographiques basées sur l'IP\n",
    "    ip_response = requests.get(\"https://ipinfo.io/json\")\n",
    "    ip_data = ip_response.json()\n",
    "    location = ip_data.get(\"loc\")  # Format: \"latitude,longitude\"\n",
    "    \n",
    "    # Utiliser OpenCage pour convertir les coordonnées en adresse\n",
    "    geocoder = OpenCageGeocode(API_KEY)\n",
    "    results = geocoder.reverse_geocode(*map(float, location.split(',')))\n",
    "\n",
    "    if results:\n",
    "        address = results[0]['formatted']\n",
    "        print(f\"Adresse approximative : {address}\")\n",
    "    else:\n",
    "        print(\"Impossible de trouver l'adresse.\")\n",
    "\n",
    "get_address_from_location()"
   ]
  }
 ],
 "metadata": {
  "kernelspec": {
   "display_name": "Python 3 (ipykernel)",
   "language": "python",
   "name": "python3"
  },
  "language_info": {
   "codemirror_mode": {
    "name": "ipython",
    "version": 3
   },
   "file_extension": ".py",
   "mimetype": "text/x-python",
   "name": "python",
   "nbconvert_exporter": "python",
   "pygments_lexer": "ipython3",
   "version": "3.12.4"
  }
 },
 "nbformat": 4,
 "nbformat_minor": 5
}
