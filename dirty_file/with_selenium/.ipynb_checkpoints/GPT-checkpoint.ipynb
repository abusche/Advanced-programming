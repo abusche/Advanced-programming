{
 "cells": [
  {
   "cell_type": "code",
   "execution_count": 1,
   "id": "8f9244ba-cefc-4368-95ac-9dcab835eaec",
   "metadata": {},
   "outputs": [
    {
     "name": "stderr",
     "output_type": "stream",
     "text": [
      "C:\\Users\\busch\\anaconda3\\lib\\site-packages\\scipy\\__init__.py:146: UserWarning: A NumPy version >=1.16.5 and <1.23.0 is required for this version of SciPy (detected version 1.26.4\n",
      "  warnings.warn(f\"A NumPy version >={np_minversion} and <{np_maxversion}\"\n"
     ]
    },
    {
     "name": "stdout",
     "output_type": "stream",
     "text": [
      "WARNING:tensorflow:From C:\\Users\\busch\\anaconda3\\lib\\site-packages\\tf_keras\\src\\losses.py:2976: The name tf.losses.sparse_softmax_cross_entropy is deprecated. Please use tf.compat.v1.losses.sparse_softmax_cross_entropy instead.\n",
      "\n"
     ]
    }
   ],
   "source": [
    "import os\n",
    "from langchain_openai import ChatOpenAI\n",
    "from langchain_core.vectorstores import InMemoryVectorStore\n",
    "from langchain_openai import OpenAIEmbeddings\n",
    "from langchain_text_splitters import RecursiveCharacterTextSplitter\n",
    "from langchain.chains import create_retrieval_chain\n",
    "from langchain.chains.combine_documents import create_stuff_documents_chain\n",
    "from langchain_core.prompts import ChatPromptTemplate\n",
    "from dotenv import load_dotenv\n",
    "from langchain_community.document_loaders import PyPDFLoader\n",
    "from menu_functions import menu_to_pdf\n",
    "\n",
    "import time\n",
    "\n",
    "def rag_gpt():\n",
    "    \n",
    "    t1 = time.time()\n",
    "    path = \"C:/Users/busch/OneDrive/Documents/Fac/M2/UE1 - Advanced programming and data visualization/Advanced Programming/projet/environment/\"\n",
    "    \n",
    "    load_dotenv(f\"{path}.env\")\n",
    "    os.environ[\"OPENAI_API_KEY\"] = os.getenv(\"OPENAI_API_KEY\")\n",
    "    \n",
    "    llm = ChatOpenAI(model=\"gpt-3.5-turbo\")\n",
    "    \n",
    "    context = False\n",
    "    question = \"\"\n",
    "    \n",
    "    print(\"TIME : Load llm and environment : \", time.time() - t1)\n",
    "    \n",
    "    while question != \"Exit\":\n",
    "        question = input() # Save the question of the user\n",
    "        if context == False:\n",
    "            \n",
    "            t2 = time.time()\n",
    "            # Scraping du menu du restaurant\n",
    "            menu_to_pdf(question)\n",
    "            print(\"TIME : Scrap the menu and implement context : \", time.time() - t2)\n",
    "            \n",
    "            # Connection au contexte\n",
    "            t3 = time.time()\n",
    "            file_path = f\"{path}menu.pdf\"\n",
    "            loader = PyPDFLoader(file_path)\n",
    "\n",
    "            docs = loader.load()\n",
    "\n",
    "            text_splitter = RecursiveCharacterTextSplitter(chunk_size=1000, chunk_overlap=200)\n",
    "            splits = text_splitter.split_documents(docs)\n",
    "            vectorstore = InMemoryVectorStore.from_documents(\n",
    "                documents=splits, embedding=OpenAIEmbeddings()\n",
    "            )\n",
    "\n",
    "            retriever = vectorstore.as_retriever()\n",
    "\n",
    "            # Prompt\n",
    "            system_prompt = (\n",
    "                \"You are an assistant for question-answering tasks about the menu of a specific restaurant. \"\n",
    "                \"Translate the menu in the language of the question. \"\n",
    "                \"A give you a menu, just answer my question, and don't take attention to the name that I specified. \"\n",
    "                \"Use the following pieces of retrieved context to answer \"\n",
    "                \"the question. If you don't know the answer, say that you \"\n",
    "                \"don't know. Use three sentences maximum and keep the \"\n",
    "                \"answer concise.\"\n",
    "                \"\\n\\n\"\n",
    "                \"{context}\"\n",
    "            )\n",
    "\n",
    "            prompt = ChatPromptTemplate.from_messages(\n",
    "                [\n",
    "                    (\"system\", system_prompt),\n",
    "                    (\"human\", \"{input}\"),\n",
    "                ]\n",
    "            )\n",
    "\n",
    "            question_answer_chain = create_stuff_documents_chain(llm, prompt)\n",
    "            rag_chain = create_retrieval_chain(retriever, question_answer_chain)\n",
    "            \n",
    "            context = True\n",
    "\n",
    "            print(\"TIME : Connect to the context : \", time.time() - t3)\n",
    "            \n",
    "        if question != \"Exit\":\n",
    "            # Write an answer from the LLM\n",
    "            t4 = time.time()\n",
    "            results = rag_chain.invoke({\"input\": question})\n",
    "\n",
    "            # Print the answer\n",
    "            print(results[\"answer\"])\n",
    "            print(\"TIME : Answer the question : \", time.time() - t4)\n",
    "            "
   ]
  },
  {
   "cell_type": "code",
   "execution_count": 2,
   "id": "d0a3a0c5-9a94-4629-a131-e0981c671b2e",
   "metadata": {},
   "outputs": [
    {
     "name": "stdout",
     "output_type": "stream",
     "text": [
      "TIME : Load llm and environment :  0.06978321075439453\n"
     ]
    },
    {
     "name": "stdin",
     "output_type": "stream",
     "text": [
      " What is the menu at Esplanade ?\n"
     ]
    },
    {
     "name": "stdout",
     "output_type": "stream",
     "text": [
      "TIME : HF_model :  4.052068471908569\n",
      "TIME : resto_link :  3.899329423904419\n",
      "TIME : get_link() :  7.951397895812988\n",
      "TIME : ScrapMenuToday() :  79.98355531692505\n",
      "TIME : clean_menu() :  0.0\n",
      "TIME : get_menu(question) :  87.9359622001648\n",
      "TIME : Scrap the menu and implement context :  88.3443775177002\n",
      "TIME : Connect to the context :  2.137829065322876\n",
      "The menu at Esplanade includes student menus on the 1st and 2nd floors. On the 2nd floor, you can find dishes like chicken fillet with homemade forest sauce, green beans, and fries. On the 1st floor, they offer homemade fish curry with twists and vegetarian shepherd's pie. The dessert options include vanilla mille-feuille, coconut tart, and Black Forest cake.\n",
      "TIME : Answer the question :  2.3824915885925293\n"
     ]
    },
    {
     "name": "stdin",
     "output_type": "stream",
     "text": [
      " Exit\n"
     ]
    }
   ],
   "source": [
    "rag_gpt()"
   ]
  },
  {
   "cell_type": "code",
   "execution_count": 3,
   "id": "5aabebc6-2087-4acf-b425-babc74aeb699",
   "metadata": {},
   "outputs": [
    {
     "name": "stdout",
     "output_type": "stream",
     "text": [
      "TIME : Load llm and environment :  0.07453393936157227\n"
     ]
    },
    {
     "name": "stdin",
     "output_type": "stream",
     "text": [
      " What is the menu at Esplanade ?\n"
     ]
    },
    {
     "name": "stdout",
     "output_type": "stream",
     "text": [
      "TIME : get_link() :  10.289774894714355\n",
      "TIME : ScrapMenuToday() :  25.57329821586609\n",
      "TIME : clean_menu() :  423.0919601917267\n",
      "TIME : get_menu(question) :  458.9560377597809\n",
      "TIME : Scrap the menu and implement context :  458.9985580444336\n",
      "TIME : Connect to the context :  3.0064380168914795\n",
      "The menu at Esplanade includes dishes like aiguillettes of wheat and emmental, chou romanesco with herbs of Provence, homemade tartiflette, vegetable wok, Chinese noodles, paëlla with homemade green vegetables, and vegetable soup of the day with carrots and celery. Additionally, there are desserts like Norman tart, thousand sheets, and cake nature with chocolate nuggets available on the 1st and 2nd floors. The Crystal Shop offers dishes like wheat chips, chou romanesco, fries, vegetable wok, and Chinese noodles for on-site consumption or take-out.\n",
      "TIME : Answer the question :  2.9641318321228027\n"
     ]
    },
    {
     "name": "stdin",
     "output_type": "stream",
     "text": [
      " Exit\n"
     ]
    }
   ],
   "source": [
    "rag_gpt()"
   ]
  }
 ],
 "metadata": {
  "kernelspec": {
   "display_name": "Python 3 (ipykernel)",
   "language": "python",
   "name": "python3"
  },
  "language_info": {
   "codemirror_mode": {
    "name": "ipython",
    "version": 3
   },
   "file_extension": ".py",
   "mimetype": "text/x-python",
   "name": "python",
   "nbconvert_exporter": "python",
   "pygments_lexer": "ipython3",
   "version": "3.12.4"
  }
 },
 "nbformat": 4,
 "nbformat_minor": 5
}
