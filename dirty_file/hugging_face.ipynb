{
 "cells": [
  {
   "cell_type": "markdown",
   "id": "74c51fb3-8cd9-4b9d-ad24-8418a04a2388",
   "metadata": {
    "tags": []
   },
   "source": [
    "## 1) Localisation and hours"
   ]
  },
  {
   "cell_type": "code",
   "execution_count": 1,
   "id": "59dbc1c2-f481-47d6-a817-94c0c86c7f3a",
   "metadata": {},
   "outputs": [],
   "source": [
    "import os\n",
    "from dotenv import load_dotenv\n",
    "\n",
    "load_dotenv(\"C:/Users/busch/OneDrive/Documents/Fac/M2/UE1 - Advanced programming and data visualization/Advanced programming/projet/environment/.env\")\n",
    "hf_token = os.getenv(\"HUGGING_FACE_KEY\")\n",
    "custom_cache_dir = \"/home/peltouz/Documents/pretrain\"\n",
    "\n",
    "os.environ['HF_HOME'] = custom_cache_dir  # Hugging Face home directory for all HF operations\n",
    "os.environ['TRANSFORMERS_CACHE'] = custom_cache_dir  # Transformers-specific cache directory\n",
    "os.environ['HF_DATASETS_CACHE'] = custom_cache_dir  # Datasets-specific cache directory\n",
    "os.environ['HF_METRICS_CACHE'] = custom_cache_dir  # Metrics-specific cache directory\n",
    "os.environ['HF_TOKEN'] = hf_token  # Hugging Face API token"
   ]
  },
  {
   "cell_type": "code",
   "execution_count": 11,
   "id": "783123e7-e7b3-4fb4-8488-3b1522293dbf",
   "metadata": {
    "tags": []
   },
   "outputs": [],
   "source": [
    "import logging\n",
    "import torch\n",
    "from transformers import AutoModelForTokenClassification, pipeline, AutoTokenizer"
   ]
  },
  {
   "cell_type": "code",
   "execution_count": 7,
   "id": "9bc8c13b-7e02-4c84-b915-e70b65580999",
   "metadata": {},
   "outputs": [],
   "source": [
    "logging.getLogger(\"transformers.modeling_utils\").setLevel(logging.ERROR)\n",
    "def HF_model(model, message):\n",
    "    if model == \"hours\":\n",
    "        m = AutoModelForTokenClassification.from_pretrained(\"DAMO-NLP-SG/roberta-time_identification\")\n",
    "        tokenizer = AutoTokenizer.from_pretrained(\"DAMO-NLP-SG/roberta-time_identification\")\n",
    "        nlp = pipeline(\"ner\", model=m, tokenizer=tokenizer, aggregation_strategy=\"simple\")\n",
    "        ner_results = nlp(message)\n",
    "    if model == \"loc\":\n",
    "        m = AutoModelForTokenClassification.from_pretrained(\"Babelscape/wikineural-multilingual-ner\")\n",
    "        tokenizer = AutoTokenizer.from_pretrained(\"Babelscape/wikineural-multilingual-ner\")\n",
    "        nlp = pipeline(\"ner\", model=m, tokenizer=tokenizer, aggregation_strategy=\"simple\")\n",
    "        ner_results = nlp(message)\n",
    "    \n",
    "    return ner_results"
   ]
  },
  {
   "cell_type": "code",
   "execution_count": 8,
   "id": "85dec56e-6a9e-4109-8e05-942badaf4c31",
   "metadata": {},
   "outputs": [
    {
     "data": {
      "text/plain": [
       "[{'entity_group': 'TIME',\n",
       "  'score': 0.9936938,\n",
       "  'word': ' 30 November 2016',\n",
       "  'start': 17,\n",
       "  'end': 33}]"
      ]
     },
     "execution_count": 8,
     "metadata": {},
     "output_type": "execute_result"
    }
   ],
   "source": [
    "HF_model(\"hours\", \"I'll be there on 30 November 2016\")"
   ]
  },
  {
   "cell_type": "code",
   "execution_count": 9,
   "id": "09b880f6-86a6-4d9c-be60-02ed844aafc5",
   "metadata": {},
   "outputs": [
    {
     "data": {
      "text/plain": [
       "[{'entity_group': 'TIME',\n",
       "  'score': 0.99966395,\n",
       "  'word': ' today',\n",
       "  'start': 14,\n",
       "  'end': 19}]"
      ]
     },
     "execution_count": 9,
     "metadata": {},
     "output_type": "execute_result"
    }
   ],
   "source": [
    "HF_model(\"hours\", \"I'll be there today\")"
   ]
  },
  {
   "cell_type": "code",
   "execution_count": 12,
   "id": "e7841234-1fec-4ccc-896b-4c05675652b0",
   "metadata": {},
   "outputs": [
    {
     "data": {
      "text/plain": [
       "[{'entity_group': 'LOC',\n",
       "  'score': 0.99668074,\n",
       "  'word': 'Esplanade',\n",
       "  'start': 17,\n",
       "  'end': 26}]"
      ]
     },
     "execution_count": 12,
     "metadata": {},
     "output_type": "execute_result"
    }
   ],
   "source": [
    "HF_model(\"loc\", \"I want to eat at Esplanade, what is the menu for the lunch\")"
   ]
  },
  {
   "cell_type": "code",
   "execution_count": 13,
   "id": "55aa53df-9341-4e7f-beee-d96321769ea8",
   "metadata": {},
   "outputs": [],
   "source": [
    "ent = HF_model(\"loc\", \"I want to eat at Esplanade, what is the menu for the lunch ?\")\n",
    "entity_group = ent[0]['entity_group']\n",
    "resto = ent[0]['word']"
   ]
  },
  {
   "cell_type": "code",
   "execution_count": 14,
   "id": "57d63894-b24f-46d9-8ff0-c1d14a2de1d2",
   "metadata": {},
   "outputs": [
    {
     "data": {
      "text/plain": [
       "'Esplanade'"
      ]
     },
     "execution_count": 14,
     "metadata": {},
     "output_type": "execute_result"
    }
   ],
   "source": [
    "resto"
   ]
  },
  {
   "cell_type": "markdown",
   "id": "37118651-3880-4490-a649-4a7ef4842ef9",
   "metadata": {
    "tags": []
   },
   "source": [
    "## 2) Text similarity"
   ]
  },
  {
   "cell_type": "code",
   "execution_count": 17,
   "id": "4fcca0fb-ceee-4f02-b289-8ce64b0b1f2f",
   "metadata": {
    "tags": []
   },
   "outputs": [],
   "source": [
    "from sentence_transformers import SentenceTransformer\n",
    "import torch"
   ]
  },
  {
   "cell_type": "code",
   "execution_count": 18,
   "id": "813aaf89-3078-4fad-ae30-7ec9268b8a19",
   "metadata": {},
   "outputs": [],
   "source": [
    "model = SentenceTransformer('sentence-transformers/all-MiniLM-L6-v2')"
   ]
  },
  {
   "cell_type": "code",
   "execution_count": 19,
   "id": "c2fcedba-7ba8-4f8b-b9d6-24b567501138",
   "metadata": {},
   "outputs": [],
   "source": [
    "# Define two example sentences\n",
    "sentence1 = \"Esplonde\"\n",
    "sentence2 = \"Esplanade\""
   ]
  },
  {
   "cell_type": "code",
   "execution_count": 20,
   "id": "992531d4-6518-4cf4-a047-883f5064ce9a",
   "metadata": {},
   "outputs": [],
   "source": [
    "# Encode sentences and compute similarity score\n",
    "embeddings1 = model.encode([sentence1], convert_to_tensor=True)\n",
    "embeddings2 = model.encode([sentence2], convert_to_tensor=True)\n",
    "cosine_similarities = torch.nn.functional.cosine_similarity(embeddings1, embeddings2)"
   ]
  },
  {
   "cell_type": "code",
   "execution_count": 21,
   "id": "9180fed7-f411-4e60-87cf-475a473be5a0",
   "metadata": {},
   "outputs": [
    {
     "name": "stdout",
     "output_type": "stream",
     "text": [
      "Similarity score: 0.8379175662994385\n"
     ]
    }
   ],
   "source": [
    "# Print similarity score\n",
    "print(f\"Similarity score: {cosine_similarities.item()}\")"
   ]
  },
  {
   "cell_type": "code",
   "execution_count": 22,
   "id": "f40d0fd3-1351-456f-a2ca-beb4703c1ace",
   "metadata": {},
   "outputs": [],
   "source": [
    "def resto_link(resto):\n",
    "    model = SentenceTransformer('sentence-transformers/all-MiniLM-L6-v2')\n",
    "    vec_resto = [\"cafeteria le pege\", \"resto u gallia\", \"resto u esplanade\", \"resto u paul appell\", \"le 32\", \"lannexe\", \n",
    "                 \"resto u illkirch\", \"cafeteria mini r\", \"resto u cronenbourg\", \"le cristal shop ru esplanade\"]\n",
    "    link = []\n",
    "    for i in range(len(resto)):\n",
    "        sim_score = []\n",
    "        for j in range(len(vec_resto)):\n",
    "            embeddings1 = model.encode([resto[i]], convert_to_tensor=True)\n",
    "            embeddings2 = model.encode([vec_resto[j]], convert_to_tensor=True)\n",
    "            sim_score.append(torch.nn.functional.cosine_similarity(embeddings1, embeddings2).item())\n",
    "        k = sim_score.index(max(sim_score))\n",
    "        link.append(\"https://www.crous-strasbourg.fr/restaurant/\" + vec_resto[k].replace(\" \", \"-\") + \"-2/\")\n",
    "    \n",
    "    return link"
   ]
  },
  {
   "cell_type": "markdown",
   "id": "9f754d15-fbb7-4246-8568-c5b6f187788b",
   "metadata": {},
   "source": [
    "## 3) Translator"
   ]
  },
  {
   "cell_type": "code",
   "execution_count": 3,
   "id": "d5bf876d-d854-40e9-8c15-4dfea57d5a2c",
   "metadata": {},
   "outputs": [],
   "source": [
    "def translator(language_from, language_to, text):\n",
    "    if language_from == \"fr\" and language_to == \"en\":\n",
    "        api_translator = pipeline(\"translation\", model=\"Helsinki-NLP/opus-mt-fr-en\")\n",
    "        translation = api_translator(text)[0]['translation_text']\n",
    "    return translation"
   ]
  },
  {
   "cell_type": "code",
   "execution_count": 1,
   "id": "5e607e47-f0e3-4341-b276-f6e34ea94ec1",
   "metadata": {},
   "outputs": [],
   "source": [
    "from menu_functions import get_menu\n",
    "menu = get_menu(\"Esplanade\")"
   ]
  },
  {
   "cell_type": "code",
   "execution_count": 2,
   "id": "24e94380-da0b-4b66-8bed-e0f21766b3e3",
   "metadata": {},
   "outputs": [
    {
     "name": "stdout",
     "output_type": "stream",
     "text": [
      "- Student menus 2nd floor\n",
      "\n",
      "Chicken hash with homemade cream\n",
      "Flat beans\n",
      "Torsades\n",
      "\n",
      "Chile with homemade vegetables\n",
      "Vegetable soup of the day:\n",
      "Beans, cauliflower and carrots\n",
      "\n",
      "- Desserts 2nd floor\n",
      "\n",
      "Paris-Brest\n",
      "Chocolate tart\n",
      "Coconut tart\n",
      "Fruit salad\n",
      "\n",
      "- Crystal Shop (DRC) Cafeteria\n",
      "\n",
      "menu not communicated\n",
      "\n",
      "- Origins of our meats of the day\n",
      "\n",
      "Poultry origin France\n",
      "\n",
      "\n"
     ]
    }
   ],
   "source": [
    "print(menu)"
   ]
  },
  {
   "cell_type": "markdown",
   "id": "d100f44c-272b-4417-9010-6c4556493424",
   "metadata": {},
   "source": [
    "## 4) Text analysis"
   ]
  },
  {
   "cell_type": "code",
   "execution_count": 15,
   "id": "791003c5-25a5-41aa-8484-5dbfedade00d",
   "metadata": {},
   "outputs": [
    {
     "data": {
      "text/plain": [
       "'- Student menus 2nd floor\\n\\nChicken hash with homemade cream\\nFlat beans\\nTorsades\\n\\nChile with homemade vegetables\\nVegetable soup of the day:\\nBeans, cauliflower and carrots\\n\\n- Desserts 2nd floor\\n\\nParis-Brest\\nChocolate tart\\nCoconut tart\\nFruit salad\\n\\n- Crystal Shop (DRC) Cafeteria\\n\\nmenu not communicated\\n\\n- Origins of our meats of the day\\n\\nPoultry origin France\\n\\n'"
      ]
     },
     "execution_count": 15,
     "metadata": {},
     "output_type": "execute_result"
    }
   ],
   "source": [
    "menu"
   ]
  },
  {
   "cell_type": "code",
   "execution_count": 18,
   "id": "ba1cacb5-aa35-4064-8fab-32a64f40e566",
   "metadata": {},
   "outputs": [
    {
     "name": "stderr",
     "output_type": "stream",
     "text": [
      "No model was supplied, defaulted to distilbert/distilbert-base-cased-distilled-squad and revision 564e9b5 (https://huggingface.co/distilbert/distilbert-base-cased-distilled-squad).\n",
      "Using a pipeline without specifying a model name and revision in production is not recommended.\n"
     ]
    },
    {
     "data": {
      "text/plain": [
       "{'score': 0.5917239785194397, 'start': 14, 'end': 23, 'answer': '2nd floor'}"
      ]
     },
     "execution_count": 18,
     "metadata": {},
     "output_type": "execute_result"
    }
   ],
   "source": [
    "question_answerer = pipeline(\"question-answering\")\n",
    "question_answerer(\n",
    "    question=\"Where can i eat Chile ?\",\n",
    "    context=menu_str,\n",
    ")"
   ]
  },
  {
   "cell_type": "code",
   "execution_count": null,
   "id": "cf06c3e0-3b10-497b-9f98-bed6072b2a2d",
   "metadata": {},
   "outputs": [],
   "source": []
  },
  {
   "cell_type": "code",
   "execution_count": 10,
   "id": "bbfa1963-2c9d-44bf-8953-2626524d768e",
   "metadata": {},
   "outputs": [
    {
     "data": {
      "text/plain": [
       "{'score': 0.15749846398830414,\n",
       " 'start': 37,\n",
       " 'end': 49,\n",
       " 'answer': '3rd december'}"
      ]
     },
     "execution_count": 10,
     "metadata": {},
     "output_type": "execute_result"
    }
   ],
   "source": [
    "question_answerer(\n",
    "    question=\"What is my birthday ?\",\n",
    "    context=\"My name is Adrien and I was born the 3rd december\",\n",
    ")"
   ]
  }
 ],
 "metadata": {
  "kernelspec": {
   "display_name": "Python 3 (ipykernel)",
   "language": "python",
   "name": "python3"
  },
  "language_info": {
   "codemirror_mode": {
    "name": "ipython",
    "version": 3
   },
   "file_extension": ".py",
   "mimetype": "text/x-python",
   "name": "python",
   "nbconvert_exporter": "python",
   "pygments_lexer": "ipython3",
   "version": "3.12.4"
  }
 },
 "nbformat": 4,
 "nbformat_minor": 5
}
