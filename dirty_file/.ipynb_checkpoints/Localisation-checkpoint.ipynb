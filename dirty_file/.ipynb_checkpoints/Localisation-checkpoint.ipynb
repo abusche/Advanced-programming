{
 "cells": [
  {
   "cell_type": "markdown",
   "id": "ae202cbf-df8a-44ee-a5e6-3901e16239f3",
   "metadata": {},
   "source": [
    "# Calcul de la distance à vol d'oiseau"
   ]
  },
  {
   "cell_type": "code",
   "execution_count": 22,
   "id": "c58c28ac-68e2-459b-8b05-34065030a17c",
   "metadata": {},
   "outputs": [],
   "source": [
    "import geocoder\n",
    "import geopy\n",
    "from geopy.distance import geodesic\n",
    "import pandas as pd\n",
    "import folium\n",
    "from geopy.distance import great_circle\n",
    "from geopy.geocoders import Nominatim"
   ]
  },
  {
   "cell_type": "code",
   "execution_count": 14,
   "id": "95d0c323-cb45-42e0-968e-a598f455896f",
   "metadata": {},
   "outputs": [
    {
     "data": {
      "text/plain": [
       "(48.5845557, 7.7599737)"
      ]
     },
     "execution_count": 14,
     "metadata": {},
     "output_type": "execute_result"
    }
   ],
   "source": [
    "# Get GPS coordinates of the restaurant\n",
    "def get_gps_coordinates(location):\n",
    "    geolocator = Nominatim(user_agent=\"my_gps_app\")\n",
    "    location_info = geolocator.geocode(location)\n",
    "    if location_info:\n",
    "        latitude = location_info.latitude\n",
    "        longitude = location_info.longitude\n",
    "        return latitude, longitude\n",
    "    else:\n",
    "        return None\n",
    "\n",
    "rest_coordinates = get_gps_coordinates(\"1 Pl. de l'Université, 67000 Strasbourg\")\n",
    "rest_coordinates"
   ]
  },
  {
   "cell_type": "code",
   "execution_count": 24,
   "id": "b46e6153-a203-4a67-9b30-fc30e4f46f23",
   "metadata": {},
   "outputs": [
    {
     "name": "stdout",
     "output_type": "stream",
     "text": [
      "398.01 km\n"
     ]
    }
   ],
   "source": [
    "# Get my GPS coordinates\n",
    "def get_current_gps_coordinates():\n",
    "    g = geocoder.ip('me')\n",
    "    if g.latlng is not None:\n",
    "        return g.latlng\n",
    "    else:\n",
    "        return None\n",
    "\n",
    "if __name__ == \"__main__\":\n",
    "    my_coordinates = get_current_gps_coordinates()\n",
    "    if my_coordinates is not None:\n",
    "        latitude, longitude = my_coordinates\n",
    "\n",
    "# Measure the distance\n",
    "point1 = rest_coordinates\n",
    "point2 = (latitude, longitude)\n",
    "\n",
    "dist_great_circle = great_circle(point1, point2).kilometers\n",
    "print(round(dist_great_circle, 2), 'km')"
   ]
  },
  {
   "cell_type": "code",
   "execution_count": 26,
   "id": "1374956e-b7ac-4649-b5e4-bb68e40ecfec",
   "metadata": {},
   "outputs": [
    {
     "data": {
      "text/html": [
       "<div style=\"width:100%;\"><div style=\"position:relative;width:100%;height:0;padding-bottom:60%;\"><span style=\"color:#565656\">Make this Notebook Trusted to load map: File -> Trust Notebook</span><iframe srcdoc=\"&lt;!DOCTYPE html&gt;\n",
       "&lt;html&gt;\n",
       "&lt;head&gt;\n",
       "    \n",
       "    &lt;meta http-equiv=&quot;content-type&quot; content=&quot;text/html; charset=UTF-8&quot; /&gt;\n",
       "    \n",
       "        &lt;script&gt;\n",
       "            L_NO_TOUCH = false;\n",
       "            L_DISABLE_3D = false;\n",
       "        &lt;/script&gt;\n",
       "    \n",
       "    &lt;style&gt;html, body {width: 100%;height: 100%;margin: 0;padding: 0;}&lt;/style&gt;\n",
       "    &lt;style&gt;#map {position:absolute;top:0;bottom:0;right:0;left:0;}&lt;/style&gt;\n",
       "    &lt;script src=&quot;https://cdn.jsdelivr.net/npm/leaflet@1.9.3/dist/leaflet.js&quot;&gt;&lt;/script&gt;\n",
       "    &lt;script src=&quot;https://code.jquery.com/jquery-3.7.1.min.js&quot;&gt;&lt;/script&gt;\n",
       "    &lt;script src=&quot;https://cdn.jsdelivr.net/npm/bootstrap@5.2.2/dist/js/bootstrap.bundle.min.js&quot;&gt;&lt;/script&gt;\n",
       "    &lt;script src=&quot;https://cdnjs.cloudflare.com/ajax/libs/Leaflet.awesome-markers/2.0.2/leaflet.awesome-markers.js&quot;&gt;&lt;/script&gt;\n",
       "    &lt;link rel=&quot;stylesheet&quot; href=&quot;https://cdn.jsdelivr.net/npm/leaflet@1.9.3/dist/leaflet.css&quot;/&gt;\n",
       "    &lt;link rel=&quot;stylesheet&quot; href=&quot;https://cdn.jsdelivr.net/npm/bootstrap@5.2.2/dist/css/bootstrap.min.css&quot;/&gt;\n",
       "    &lt;link rel=&quot;stylesheet&quot; href=&quot;https://netdna.bootstrapcdn.com/bootstrap/3.0.0/css/bootstrap-glyphicons.css&quot;/&gt;\n",
       "    &lt;link rel=&quot;stylesheet&quot; href=&quot;https://cdn.jsdelivr.net/npm/@fortawesome/fontawesome-free@6.2.0/css/all.min.css&quot;/&gt;\n",
       "    &lt;link rel=&quot;stylesheet&quot; href=&quot;https://cdnjs.cloudflare.com/ajax/libs/Leaflet.awesome-markers/2.0.2/leaflet.awesome-markers.css&quot;/&gt;\n",
       "    &lt;link rel=&quot;stylesheet&quot; href=&quot;https://cdn.jsdelivr.net/gh/python-visualization/folium/folium/templates/leaflet.awesome.rotate.min.css&quot;/&gt;\n",
       "    \n",
       "            &lt;meta name=&quot;viewport&quot; content=&quot;width=device-width,\n",
       "                initial-scale=1.0, maximum-scale=1.0, user-scalable=no&quot; /&gt;\n",
       "            &lt;style&gt;\n",
       "                #map_c0e502654ceb8e32c0edb4abc1f4bc05 {\n",
       "                    position: relative;\n",
       "                    width: 100.0%;\n",
       "                    height: 100.0%;\n",
       "                    left: 0.0%;\n",
       "                    top: 0.0%;\n",
       "                }\n",
       "                .leaflet-container { font-size: 1rem; }\n",
       "            &lt;/style&gt;\n",
       "        \n",
       "&lt;/head&gt;\n",
       "&lt;body&gt;\n",
       "    \n",
       "    \n",
       "            &lt;div class=&quot;folium-map&quot; id=&quot;map_c0e502654ceb8e32c0edb4abc1f4bc05&quot; &gt;&lt;/div&gt;\n",
       "        \n",
       "&lt;/body&gt;\n",
       "&lt;script&gt;\n",
       "    \n",
       "    \n",
       "            var map_c0e502654ceb8e32c0edb4abc1f4bc05 = L.map(\n",
       "                &quot;map_c0e502654ceb8e32c0edb4abc1f4bc05&quot;,\n",
       "                {\n",
       "                    center: [48.8534, 2.3488],\n",
       "                    crs: L.CRS.EPSG3857,\n",
       "                    zoom: 12,\n",
       "                    zoomControl: true,\n",
       "                    preferCanvas: false,\n",
       "                }\n",
       "            );\n",
       "\n",
       "            \n",
       "\n",
       "        \n",
       "    \n",
       "            var tile_layer_670ede7b5d81da5b329ad53d339a5145 = L.tileLayer(\n",
       "                &quot;https://tile.openstreetmap.org/{z}/{x}/{y}.png&quot;,\n",
       "                {&quot;attribution&quot;: &quot;\\u0026copy; \\u003ca href=\\&quot;https://www.openstreetmap.org/copyright\\&quot;\\u003eOpenStreetMap\\u003c/a\\u003e contributors&quot;, &quot;detectRetina&quot;: false, &quot;maxNativeZoom&quot;: 19, &quot;maxZoom&quot;: 19, &quot;minZoom&quot;: 0, &quot;noWrap&quot;: false, &quot;opacity&quot;: 1, &quot;subdomains&quot;: &quot;abc&quot;, &quot;tms&quot;: false}\n",
       "            );\n",
       "        \n",
       "    \n",
       "            tile_layer_670ede7b5d81da5b329ad53d339a5145.addTo(map_c0e502654ceb8e32c0edb4abc1f4bc05);\n",
       "        \n",
       "    \n",
       "            var marker_148f95fe5b554a6f060133aeb0c6d6e0 = L.marker(\n",
       "                [48.8534, 2.3488],\n",
       "                {}\n",
       "            ).addTo(map_c0e502654ceb8e32c0edb4abc1f4bc05);\n",
       "        \n",
       "    \n",
       "        var popup_48df82dce1620a7b1ccde6a504c90e25 = L.popup({&quot;maxWidth&quot;: &quot;100%&quot;});\n",
       "\n",
       "        \n",
       "            \n",
       "                var html_95cc4de3865cf96b2188cbd6e14bfcec = $(`&lt;div id=&quot;html_95cc4de3865cf96b2188cbd6e14bfcec&quot; style=&quot;width: 100.0%; height: 100.0%;&quot;&gt;Point mystère n°1&lt;/div&gt;`)[0];\n",
       "                popup_48df82dce1620a7b1ccde6a504c90e25.setContent(html_95cc4de3865cf96b2188cbd6e14bfcec);\n",
       "            \n",
       "        \n",
       "\n",
       "        marker_148f95fe5b554a6f060133aeb0c6d6e0.bindPopup(popup_48df82dce1620a7b1ccde6a504c90e25)\n",
       "        ;\n",
       "\n",
       "        \n",
       "    \n",
       "    \n",
       "            var marker_30c6c4c402cc93614335272ba7130275 = L.marker(\n",
       "                [48.5845557, 7.7599737],\n",
       "                {}\n",
       "            ).addTo(map_c0e502654ceb8e32c0edb4abc1f4bc05);\n",
       "        \n",
       "    \n",
       "        var popup_95bbde179331b42a0a1a98d6dc0ccaa5 = L.popup({&quot;maxWidth&quot;: &quot;100%&quot;});\n",
       "\n",
       "        \n",
       "            \n",
       "                var html_e74be99343bc0073ab91b8602da418b7 = $(`&lt;div id=&quot;html_e74be99343bc0073ab91b8602da418b7&quot; style=&quot;width: 100.0%; height: 100.0%;&quot;&gt;Point mystère n°2&lt;/div&gt;`)[0];\n",
       "                popup_95bbde179331b42a0a1a98d6dc0ccaa5.setContent(html_e74be99343bc0073ab91b8602da418b7);\n",
       "            \n",
       "        \n",
       "\n",
       "        marker_30c6c4c402cc93614335272ba7130275.bindPopup(popup_95bbde179331b42a0a1a98d6dc0ccaa5)\n",
       "        ;\n",
       "\n",
       "        \n",
       "    \n",
       "&lt;/script&gt;\n",
       "&lt;/html&gt;\" style=\"position:absolute;width:100%;height:100%;left:0;top:0;border:none !important;\" allowfullscreen webkitallowfullscreen mozallowfullscreen></iframe></div></div>"
      ],
      "text/plain": [
       "<folium.folium.Map at 0x213ee2ed100>"
      ]
     },
     "execution_count": 26,
     "metadata": {},
     "output_type": "execute_result"
    }
   ],
   "source": [
    "# Create a map\n",
    "lat1 = my_coordinates[0]\n",
    "long1 = my_coordinates[1]\n",
    "lat2 = rest_coordinates[0]\n",
    "long2 = rest_coordinates[1]\n",
    "Map = folium.Map(location = [lat1, long1], zoom_start = 12)\n",
    "folium.Marker([lat1, long1], popup = \"Point mystère n°1\").add_to(Map)\n",
    "folium.Marker([lat2, long2], popup = \"Point mystère n°2\").add_to(Map)\n",
    "Map"
   ]
  }
 ],
 "metadata": {
  "kernelspec": {
   "display_name": "Python 3 (ipykernel)",
   "language": "python",
   "name": "python3"
  },
  "language_info": {
   "codemirror_mode": {
    "name": "ipython",
    "version": 3
   },
   "file_extension": ".py",
   "mimetype": "text/x-python",
   "name": "python",
   "nbconvert_exporter": "python",
   "pygments_lexer": "ipython3",
   "version": "3.12.4"
  }
 },
 "nbformat": 4,
 "nbformat_minor": 5
}
