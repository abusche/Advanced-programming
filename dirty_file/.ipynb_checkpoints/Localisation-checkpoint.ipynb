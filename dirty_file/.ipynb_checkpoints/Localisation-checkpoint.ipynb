{
 "cells": [
  {
   "cell_type": "markdown",
   "id": "ae202cbf-df8a-44ee-a5e6-3901e16239f3",
   "metadata": {},
   "source": [
    "# Calcul de la distance à vol d'oiseau"
   ]
  },
  {
   "cell_type": "code",
   "execution_count": 3,
   "id": "c58c28ac-68e2-459b-8b05-34065030a17c",
   "metadata": {},
   "outputs": [],
   "source": [
    "import geocoder\n",
    "import geopy\n",
    "from geopy.distance import geodesic\n",
    "import pandas as pd\n",
    "import folium\n",
    "from geopy.distance import great_circle\n",
    "from geopy.geocoders import Nominatim"
   ]
  },
  {
   "cell_type": "code",
   "execution_count": 4,
   "id": "95d0c323-cb45-42e0-968e-a598f455896f",
   "metadata": {},
   "outputs": [
    {
     "data": {
      "text/plain": [
       "(48.5845557, 7.7599737)"
      ]
     },
     "execution_count": 4,
     "metadata": {},
     "output_type": "execute_result"
    }
   ],
   "source": [
    "# Get GPS coordinates of the restaurant\n",
    "def get_gps_coordinates(location):\n",
    "    geolocator = Nominatim(user_agent=\"my_gps_app\")\n",
    "    location_info = geolocator.geocode(location)\n",
    "    if location_info:\n",
    "        latitude = location_info.latitude\n",
    "        longitude = location_info.longitude\n",
    "        return latitude, longitude\n",
    "    else:\n",
    "        return None\n",
    "\n",
    "rest_coordinates = get_gps_coordinates(\"1 Pl. de l'Université, 67000 Strasbourg\")\n",
    "rest_coordinates"
   ]
  },
  {
   "cell_type": "code",
   "execution_count": 5,
   "id": "b46e6153-a203-4a67-9b30-fc30e4f46f23",
   "metadata": {},
   "outputs": [
    {
     "name": "stdout",
     "output_type": "stream",
     "text": [
      "736.98 km\n"
     ]
    }
   ],
   "source": [
    "# Get my GPS coordinates\n",
    "def get_current_gps_coordinates():\n",
    "    g = geocoder.ip('me')\n",
    "    if g.latlng is not None:\n",
    "        return g.latlng\n",
    "    else:\n",
    "        return None\n",
    "\n",
    "if __name__ == \"__main__\":\n",
    "    my_coordinates = get_current_gps_coordinates()\n",
    "    if my_coordinates is not None:\n",
    "        latitude, longitude = my_coordinates\n",
    "\n",
    "# Measure the distance\n",
    "point1 = rest_coordinates\n",
    "point2 = (latitude, longitude)\n",
    "\n",
    "dist_great_circle = great_circle(point1, point2).kilometers\n",
    "print(round(dist_great_circle, 2), 'km')"
   ]
  },
  {
   "cell_type": "code",
   "execution_count": 6,
   "id": "1374956e-b7ac-4649-b5e4-bb68e40ecfec",
   "metadata": {},
   "outputs": [
    {
     "data": {
      "text/html": [
       "<div style=\"width:100%;\"><div style=\"position:relative;width:100%;height:0;padding-bottom:60%;\"><span style=\"color:#565656\">Make this Notebook Trusted to load map: File -> Trust Notebook</span><iframe srcdoc=\"&lt;!DOCTYPE html&gt;\n",
       "&lt;html&gt;\n",
       "&lt;head&gt;\n",
       "    \n",
       "    &lt;meta http-equiv=&quot;content-type&quot; content=&quot;text/html; charset=UTF-8&quot; /&gt;\n",
       "    \n",
       "        &lt;script&gt;\n",
       "            L_NO_TOUCH = false;\n",
       "            L_DISABLE_3D = false;\n",
       "        &lt;/script&gt;\n",
       "    \n",
       "    &lt;style&gt;html, body {width: 100%;height: 100%;margin: 0;padding: 0;}&lt;/style&gt;\n",
       "    &lt;style&gt;#map {position:absolute;top:0;bottom:0;right:0;left:0;}&lt;/style&gt;\n",
       "    &lt;script src=&quot;https://cdn.jsdelivr.net/npm/leaflet@1.9.3/dist/leaflet.js&quot;&gt;&lt;/script&gt;\n",
       "    &lt;script src=&quot;https://code.jquery.com/jquery-3.7.1.min.js&quot;&gt;&lt;/script&gt;\n",
       "    &lt;script src=&quot;https://cdn.jsdelivr.net/npm/bootstrap@5.2.2/dist/js/bootstrap.bundle.min.js&quot;&gt;&lt;/script&gt;\n",
       "    &lt;script src=&quot;https://cdnjs.cloudflare.com/ajax/libs/Leaflet.awesome-markers/2.0.2/leaflet.awesome-markers.js&quot;&gt;&lt;/script&gt;\n",
       "    &lt;link rel=&quot;stylesheet&quot; href=&quot;https://cdn.jsdelivr.net/npm/leaflet@1.9.3/dist/leaflet.css&quot;/&gt;\n",
       "    &lt;link rel=&quot;stylesheet&quot; href=&quot;https://cdn.jsdelivr.net/npm/bootstrap@5.2.2/dist/css/bootstrap.min.css&quot;/&gt;\n",
       "    &lt;link rel=&quot;stylesheet&quot; href=&quot;https://netdna.bootstrapcdn.com/bootstrap/3.0.0/css/bootstrap-glyphicons.css&quot;/&gt;\n",
       "    &lt;link rel=&quot;stylesheet&quot; href=&quot;https://cdn.jsdelivr.net/npm/@fortawesome/fontawesome-free@6.2.0/css/all.min.css&quot;/&gt;\n",
       "    &lt;link rel=&quot;stylesheet&quot; href=&quot;https://cdnjs.cloudflare.com/ajax/libs/Leaflet.awesome-markers/2.0.2/leaflet.awesome-markers.css&quot;/&gt;\n",
       "    &lt;link rel=&quot;stylesheet&quot; href=&quot;https://cdn.jsdelivr.net/gh/python-visualization/folium/folium/templates/leaflet.awesome.rotate.min.css&quot;/&gt;\n",
       "    \n",
       "            &lt;meta name=&quot;viewport&quot; content=&quot;width=device-width,\n",
       "                initial-scale=1.0, maximum-scale=1.0, user-scalable=no&quot; /&gt;\n",
       "            &lt;style&gt;\n",
       "                #map_c6853fb394a104decd030b233ebcc367 {\n",
       "                    position: relative;\n",
       "                    width: 100.0%;\n",
       "                    height: 100.0%;\n",
       "                    left: 0.0%;\n",
       "                    top: 0.0%;\n",
       "                }\n",
       "                .leaflet-container { font-size: 1rem; }\n",
       "            &lt;/style&gt;\n",
       "        \n",
       "&lt;/head&gt;\n",
       "&lt;body&gt;\n",
       "    \n",
       "    \n",
       "            &lt;div class=&quot;folium-map&quot; id=&quot;map_c6853fb394a104decd030b233ebcc367&quot; &gt;&lt;/div&gt;\n",
       "        \n",
       "&lt;/body&gt;\n",
       "&lt;script&gt;\n",
       "    \n",
       "    \n",
       "            var map_c6853fb394a104decd030b233ebcc367 = L.map(\n",
       "                &quot;map_c6853fb394a104decd030b233ebcc367&quot;,\n",
       "                {\n",
       "                    center: [43.6043, 1.4437],\n",
       "                    crs: L.CRS.EPSG3857,\n",
       "                    zoom: 12,\n",
       "                    zoomControl: true,\n",
       "                    preferCanvas: false,\n",
       "                }\n",
       "            );\n",
       "\n",
       "            \n",
       "\n",
       "        \n",
       "    \n",
       "            var tile_layer_88bf5cf43b5b127be05011789e46ff71 = L.tileLayer(\n",
       "                &quot;https://tile.openstreetmap.org/{z}/{x}/{y}.png&quot;,\n",
       "                {&quot;attribution&quot;: &quot;\\u0026copy; \\u003ca href=\\&quot;https://www.openstreetmap.org/copyright\\&quot;\\u003eOpenStreetMap\\u003c/a\\u003e contributors&quot;, &quot;detectRetina&quot;: false, &quot;maxNativeZoom&quot;: 19, &quot;maxZoom&quot;: 19, &quot;minZoom&quot;: 0, &quot;noWrap&quot;: false, &quot;opacity&quot;: 1, &quot;subdomains&quot;: &quot;abc&quot;, &quot;tms&quot;: false}\n",
       "            );\n",
       "        \n",
       "    \n",
       "            tile_layer_88bf5cf43b5b127be05011789e46ff71.addTo(map_c6853fb394a104decd030b233ebcc367);\n",
       "        \n",
       "    \n",
       "            var marker_66f5d6e3879ed203316732962e68c257 = L.marker(\n",
       "                [43.6043, 1.4437],\n",
       "                {}\n",
       "            ).addTo(map_c6853fb394a104decd030b233ebcc367);\n",
       "        \n",
       "    \n",
       "        var popup_9eb4f64bf3a20bee4f2eac61d68f9740 = L.popup({&quot;maxWidth&quot;: &quot;100%&quot;});\n",
       "\n",
       "        \n",
       "            \n",
       "                var html_8914ae36957d1ae96f72c6a9bd5df779 = $(`&lt;div id=&quot;html_8914ae36957d1ae96f72c6a9bd5df779&quot; style=&quot;width: 100.0%; height: 100.0%;&quot;&gt;Point mystère n°1&lt;/div&gt;`)[0];\n",
       "                popup_9eb4f64bf3a20bee4f2eac61d68f9740.setContent(html_8914ae36957d1ae96f72c6a9bd5df779);\n",
       "            \n",
       "        \n",
       "\n",
       "        marker_66f5d6e3879ed203316732962e68c257.bindPopup(popup_9eb4f64bf3a20bee4f2eac61d68f9740)\n",
       "        ;\n",
       "\n",
       "        \n",
       "    \n",
       "    \n",
       "            var marker_cad45d185393e27daab223142fdb5fd9 = L.marker(\n",
       "                [48.5845557, 7.7599737],\n",
       "                {}\n",
       "            ).addTo(map_c6853fb394a104decd030b233ebcc367);\n",
       "        \n",
       "    \n",
       "        var popup_b7a85528ca85007f7b35b6b2883e2612 = L.popup({&quot;maxWidth&quot;: &quot;100%&quot;});\n",
       "\n",
       "        \n",
       "            \n",
       "                var html_f4745593962e791013d3665286d9166d = $(`&lt;div id=&quot;html_f4745593962e791013d3665286d9166d&quot; style=&quot;width: 100.0%; height: 100.0%;&quot;&gt;Point mystère n°2&lt;/div&gt;`)[0];\n",
       "                popup_b7a85528ca85007f7b35b6b2883e2612.setContent(html_f4745593962e791013d3665286d9166d);\n",
       "            \n",
       "        \n",
       "\n",
       "        marker_cad45d185393e27daab223142fdb5fd9.bindPopup(popup_b7a85528ca85007f7b35b6b2883e2612)\n",
       "        ;\n",
       "\n",
       "        \n",
       "    \n",
       "&lt;/script&gt;\n",
       "&lt;/html&gt;\" style=\"position:absolute;width:100%;height:100%;left:0;top:0;border:none !important;\" allowfullscreen webkitallowfullscreen mozallowfullscreen></iframe></div></div>"
      ],
      "text/plain": [
       "<folium.folium.Map at 0x1505ead73b0>"
      ]
     },
     "execution_count": 6,
     "metadata": {},
     "output_type": "execute_result"
    }
   ],
   "source": [
    "# Create a map\n",
    "lat1 = my_coordinates[0]\n",
    "long1 = my_coordinates[1]\n",
    "lat2 = rest_coordinates[0]\n",
    "long2 = rest_coordinates[1]\n",
    "Map = folium.Map(location = [lat1, long1], zoom_start = 12)\n",
    "folium.Marker([lat1, long1], popup = \"Point mystère n°1\").add_to(Map)\n",
    "folium.Marker([lat2, long2], popup = \"Point mystère n°2\").add_to(Map)\n",
    "Map"
   ]
  }
 ],
 "metadata": {
  "kernelspec": {
   "display_name": "Python 3 (ipykernel)",
   "language": "python",
   "name": "python3"
  },
  "language_info": {
   "codemirror_mode": {
    "name": "ipython",
    "version": 3
   },
   "file_extension": ".py",
   "mimetype": "text/x-python",
   "name": "python",
   "nbconvert_exporter": "python",
   "pygments_lexer": "ipython3",
   "version": "3.12.4"
  }
 },
 "nbformat": 4,
 "nbformat_minor": 5
}
