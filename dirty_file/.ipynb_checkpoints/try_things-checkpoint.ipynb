{
 "cells": [
  {
   "cell_type": "code",
   "execution_count": 2,
   "id": "0d5c9a67-23b4-499a-b817-167e575cff4e",
   "metadata": {},
   "outputs": [
    {
     "name": "stderr",
     "output_type": "stream",
     "text": [
      "C:\\Users\\busch\\anaconda3\\lib\\site-packages\\scipy\\__init__.py:146: UserWarning: A NumPy version >=1.16.5 and <1.23.0 is required for this version of SciPy (detected version 1.26.4\n",
      "  warnings.warn(f\"A NumPy version >={np_minversion} and <{np_maxversion}\"\n"
     ]
    },
    {
     "name": "stdout",
     "output_type": "stream",
     "text": [
      "WARNING:tensorflow:From C:\\Users\\busch\\anaconda3\\lib\\site-packages\\tf_keras\\src\\losses.py:2976: The name tf.losses.sparse_softmax_cross_entropy is deprecated. Please use tf.compat.v1.losses.sparse_softmax_cross_entropy instead.\n",
      "\n"
     ]
    }
   ],
   "source": [
    "from ScrapeMenuToday import ScrapeMenu\n",
    "from hf_functions import get_link"
   ]
  },
  {
   "cell_type": "code",
   "execution_count": 3,
   "id": "641dc8d2-5c53-4a7b-9718-6d7ad5fc423e",
   "metadata": {},
   "outputs": [
    {
     "data": {
      "text/plain": [
       "['https://www.crous-strasbourg.fr/restaurant/resto-u-esplanade-2/']"
      ]
     },
     "execution_count": 3,
     "metadata": {},
     "output_type": "execute_result"
    }
   ],
   "source": [
    "get_link(\"I want to eat at Esplanade for the lunch, what is the menu ?\")"
   ]
  },
  {
   "cell_type": "code",
   "execution_count": 5,
   "id": "a8973c7c-a2fa-4989-aec5-7b2f081e9a70",
   "metadata": {},
   "outputs": [],
   "source": [
    "test = ScrapeMenu(get_link(\"I want to eat at Esplanade for the lunch, what is the menu ?\")[0])[\"lunch\"][0]"
   ]
  },
  {
   "cell_type": "code",
   "execution_count": 17,
   "id": "e7aba901-a6b9-4a7c-80e3-113f1f73ce44",
   "metadata": {},
   "outputs": [
    {
     "data": {
      "text/plain": [
       "'Déjeuner Menus étudiants 1er étage Fish and chips, sauce rémoulade maison Haricots verts Riz pilaf - Farfalles, sauce aux 3 fromages maison - Galette de quinoa provençale, sauce tomate maison ou Wrap mexicain épicé maison Chou-fleur provençale Riz pilaf Soupe de légumes du jour : Chou-fleur, haricots verts et pommes de terre Desserts 1er étage Clafoutis aux poires et pépites de chocolat Eclair vanille Mini donut Cristal Shop (RDC) Cafétéria Plat à emporter en box en verre ou sur place Cordon bleu Haricots verts Riz pilaf - Gratin de pâtes végétarien Courgettes Origines de nos viandes du jour Volaille origine France'"
      ]
     },
     "execution_count": 17,
     "metadata": {},
     "output_type": "execute_result"
    }
   ],
   "source": [
    "test[\"lunch\"][0]"
   ]
  }
 ],
 "metadata": {
  "kernelspec": {
   "display_name": "Python 3 (ipykernel)",
   "language": "python",
   "name": "python3"
  },
  "language_info": {
   "codemirror_mode": {
    "name": "ipython",
    "version": 3
   },
   "file_extension": ".py",
   "mimetype": "text/x-python",
   "name": "python",
   "nbconvert_exporter": "python",
   "pygments_lexer": "ipython3",
   "version": "3.9.12"
  }
 },
 "nbformat": 4,
 "nbformat_minor": 5
}
