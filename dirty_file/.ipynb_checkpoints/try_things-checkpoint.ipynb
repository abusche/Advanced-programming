{
 "cells": [
  {
   "cell_type": "code",
   "execution_count": 4,
   "id": "0d5c9a67-23b4-499a-b817-167e575cff4e",
   "metadata": {},
   "outputs": [],
   "source": [
    "from hf_functions import get_link"
   ]
  },
  {
   "cell_type": "code",
   "execution_count": 8,
   "id": "641dc8d2-5c53-4a7b-9718-6d7ad5fc423e",
   "metadata": {},
   "outputs": [
    {
     "data": {
      "text/plain": [
       "['https://www.crous-strasbourg.fr/restaurant/resto-u-esplanade-2/']"
      ]
     },
     "execution_count": 8,
     "metadata": {},
     "output_type": "execute_result"
    }
   ],
   "source": [
    "get_link(\"I want to eat at Esplanade for the lunch, what is the menu ?\")"
   ]
  },
  {
   "cell_type": "code",
   "execution_count": null,
   "id": "a8973c7c-a2fa-4989-aec5-7b2f081e9a70",
   "metadata": {},
   "outputs": [],
   "source": []
  }
 ],
 "metadata": {
  "kernelspec": {
   "display_name": "Python 3 (ipykernel)",
   "language": "python",
   "name": "python3"
  },
  "language_info": {
   "codemirror_mode": {
    "name": "ipython",
    "version": 3
   },
   "file_extension": ".py",
   "mimetype": "text/x-python",
   "name": "python",
   "nbconvert_exporter": "python",
   "pygments_lexer": "ipython3",
   "version": "3.12.4"
  }
 },
 "nbformat": 4,
 "nbformat_minor": 5
}
