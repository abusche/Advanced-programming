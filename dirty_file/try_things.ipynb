{
 "cells": [
  {
   "cell_type": "code",
   "execution_count": 3,
   "id": "501e4d23-391e-42fd-a235-f6d14a8c2526",
   "metadata": {},
   "outputs": [],
   "source": [
    "from menu_functions import get_link"
   ]
  },
  {
   "cell_type": "code",
   "execution_count": 4,
   "id": "42141210-c723-4c65-92d5-cef19e665333",
   "metadata": {},
   "outputs": [
    {
     "data": {
      "text/plain": [
       "['https://www.crous-strasbourg.fr/restaurant/resto-u-esplanade-2/']"
      ]
     },
     "execution_count": 4,
     "metadata": {},
     "output_type": "execute_result"
    }
   ],
   "source": [
    "get_link(\"Esplanade\")"
   ]
  },
  {
   "cell_type": "code",
   "execution_count": 1,
   "id": "0d5c9a67-23b4-499a-b817-167e575cff4e",
   "metadata": {},
   "outputs": [],
   "source": [
    "from menu_functions import get_menu"
   ]
  },
  {
   "cell_type": "code",
   "execution_count": 2,
   "id": "2808b570-1d5b-465c-a7d0-cc4c6d292199",
   "metadata": {},
   "outputs": [
    {
     "name": "stdout",
     "output_type": "stream",
     "text": [
      "1) Menus étudiants 1er étage\n",
      "\n",
      "Cordon bleu, sauce marchand de vin\n",
      "Haricots plats /carottes\n",
      "Pommes de terre wedges\n",
      "-\n",
      "Farfalles, sauce carbonara maison\n",
      "-\n",
      "Tartiflette aux champignons maison\n",
      "Duo de carottes\n",
      "\n",
      "2) Desserts 1er étage\n",
      "\n",
      "Flan chocolat et noisettes\n",
      "Eclair au café\n",
      "Tarte aux pommes et à la rhubarbe\n",
      "\n",
      "3) Cristal Shop (RDC) Cafétéria\n",
      "\n",
      "Plat à emporter en box en verre ou sur place\n",
      "Coucous\n",
      "Boulettes d'agneau\n",
      "-\n",
      "Tartiflette aux champignons maison\n",
      "Salade du jour\n",
      "\n",
      "4) Origines de nos viandes du jour\n",
      "\n",
      "Volaille origine France\n",
      "\n",
      "\n"
     ]
    }
   ],
   "source": [
    "menu = get_menu('Esplanade')\n",
    "print(menu)"
   ]
  },
  {
   "cell_type": "markdown",
   "id": "9577109e-660e-44ad-a932-5077b5179d5e",
   "metadata": {},
   "source": [
    "# Test temps"
   ]
  },
  {
   "cell_type": "code",
   "execution_count": 1,
   "id": "07a5f9e7-8289-4082-8b5b-d35ec8f2f453",
   "metadata": {},
   "outputs": [],
   "source": [
    "from test_scrap import ScrapeMenu"
   ]
  },
  {
   "cell_type": "code",
   "execution_count": 2,
   "id": "efde3d7b-3bdd-4a23-bfa3-ae1a89d41803",
   "metadata": {},
   "outputs": [
    {
     "name": "stdout",
     "output_type": "stream",
     "text": [
      "Chargement de la page :  7.471251010894775\n",
      "utilisation de la fonction :  15.366841554641724\n",
      "temps de calcul :  3.4623303413391113\n"
     ]
    },
    {
     "data": {
      "text/html": [
       "<div>\n",
       "<style scoped>\n",
       "    .dataframe tbody tr th:only-of-type {\n",
       "        vertical-align: middle;\n",
       "    }\n",
       "\n",
       "    .dataframe tbody tr th {\n",
       "        vertical-align: top;\n",
       "    }\n",
       "\n",
       "    .dataframe thead th {\n",
       "        text-align: right;\n",
       "    }\n",
       "</style>\n",
       "<table border=\"1\" class=\"dataframe\">\n",
       "  <thead>\n",
       "    <tr style=\"text-align: right;\">\n",
       "      <th></th>\n",
       "      <th>day</th>\n",
       "      <th>lunch</th>\n",
       "      <th>dinner</th>\n",
       "    </tr>\n",
       "  </thead>\n",
       "  <tbody>\n",
       "    <tr>\n",
       "      <th>0</th>\n",
       "      <td>vendredi 25 octobre</td>\n",
       "      <td>noneMenus étudiants 1er étage\\nCordon bleu, sa...</td>\n",
       "      <td>noneMenus étudiants 2ème étage\\nSteak de poule...</td>\n",
       "    </tr>\n",
       "  </tbody>\n",
       "</table>\n",
       "</div>"
      ],
      "text/plain": [
       "                   day                                              lunch  \\\n",
       "0  vendredi 25 octobre  noneMenus étudiants 1er étage\\nCordon bleu, sa...   \n",
       "\n",
       "                                              dinner  \n",
       "0  noneMenus étudiants 2ème étage\\nSteak de poule...  "
      ]
     },
     "execution_count": 2,
     "metadata": {},
     "output_type": "execute_result"
    }
   ],
   "source": [
    "ScrapeMenu(\"https://www.crous-strasbourg.fr/restaurant/resto-u-esplanade-2/\")"
   ]
  },
  {
   "cell_type": "code",
   "execution_count": 2,
   "id": "0cc990ab-3a5e-465f-a912-8d323b7bd00b",
   "metadata": {},
   "outputs": [
    {
     "name": "stdout",
     "output_type": "stream",
     "text": [
      "Chargement de la page :  8.73638391494751\n",
      "utilisation de la fonction :  16.665590047836304\n",
      "temps de calcul :  3.499742269515991\n"
     ]
    },
    {
     "data": {
      "text/html": [
       "<div>\n",
       "<style scoped>\n",
       "    .dataframe tbody tr th:only-of-type {\n",
       "        vertical-align: middle;\n",
       "    }\n",
       "\n",
       "    .dataframe tbody tr th {\n",
       "        vertical-align: top;\n",
       "    }\n",
       "\n",
       "    .dataframe thead th {\n",
       "        text-align: right;\n",
       "    }\n",
       "</style>\n",
       "<table border=\"1\" class=\"dataframe\">\n",
       "  <thead>\n",
       "    <tr style=\"text-align: right;\">\n",
       "      <th></th>\n",
       "      <th>day</th>\n",
       "      <th>lunch</th>\n",
       "      <th>dinner</th>\n",
       "    </tr>\n",
       "  </thead>\n",
       "  <tbody>\n",
       "    <tr>\n",
       "      <th>0</th>\n",
       "      <td>vendredi 25 octobre</td>\n",
       "      <td>noneMenus étudiants 1er étage\\nCordon bleu, sa...</td>\n",
       "      <td>noneMenus étudiants 2ème étage\\nSteak de poule...</td>\n",
       "    </tr>\n",
       "  </tbody>\n",
       "</table>\n",
       "</div>"
      ],
      "text/plain": [
       "                   day                                              lunch  \\\n",
       "0  vendredi 25 octobre  noneMenus étudiants 1er étage\\nCordon bleu, sa...   \n",
       "\n",
       "                                              dinner  \n",
       "0  noneMenus étudiants 2ème étage\\nSteak de poule...  "
      ]
     },
     "execution_count": 2,
     "metadata": {},
     "output_type": "execute_result"
    }
   ],
   "source": [
    "ScrapeMenu(\"https://www.crous-strasbourg.fr/restaurant/resto-u-esplanade-2/\")"
   ]
  }
 ],
 "metadata": {
  "kernelspec": {
   "display_name": "Python 3 (ipykernel)",
   "language": "python",
   "name": "python3"
  },
  "language_info": {
   "codemirror_mode": {
    "name": "ipython",
    "version": 3
   },
   "file_extension": ".py",
   "mimetype": "text/x-python",
   "name": "python",
   "nbconvert_exporter": "python",
   "pygments_lexer": "ipython3",
   "version": "3.12.4"
  }
 },
 "nbformat": 4,
 "nbformat_minor": 5
}
