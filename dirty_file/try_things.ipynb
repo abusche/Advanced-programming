{
 "cells": [
  {
   "cell_type": "code",
   "execution_count": 1,
   "id": "6099fac5-ed0d-47a3-8bfc-f85efdc1f4f9",
   "metadata": {},
   "outputs": [],
   "source": [
    "from menu_functions import get_link, translator, get_menu\n",
    "from ScrapeMenuToday import ScrapeMenu"
   ]
  },
  {
   "cell_type": "code",
   "execution_count": 2,
   "id": "44f5fb5f-ed22-4b50-bc2f-1e463279697c",
   "metadata": {},
   "outputs": [
    {
     "name": "stdout",
     "output_type": "stream",
     "text": [
      "Menu Esplanade\n",
      " \n",
      "- Student menus 1st and 2nd floor\n",
      "\n",
      "Second floor:\n",
      "Chicken peppers with mustard, homemade tomato sauce\n",
      "Courgettes\n",
      "Fries\n",
      "\n",
      "Curry of homemade vegetables\n",
      "1st floor:\n",
      "Home marinated chicken fillet, homemade tomato sauce\n",
      "Flat carrot beans\n",
      "Boulgour with spices\n",
      "\n",
      "Penne, homemade poultry sauce\n",
      "\n",
      "Spinach lasagna and home ricotta\n",
      "Vegetable soup of the day:\n",
      "Carrots and celery\n",
      "\n",
      "- Desserts 1st and 2nd floor\n",
      "\n",
      "Brownie\n",
      "Cocktail of exotic fruit\n",
      "Vanilla light\n",
      "\n",
      "- Crystal Shop (DRC) Cafeteria\n",
      "\n",
      "Glass box or on-site take-out dish\n",
      "Home marinated chicken fillet\n",
      "Flat carrot beans\n",
      "Boulgour with spices\n",
      "\n",
      "Spinach and ricotta lasagna\n",
      "Salad of the day\n",
      "\n",
      "- Origins of our meats of the day\n",
      "\n",
      "Poultry origin France\n",
      "\n",
      "\n"
     ]
    }
   ],
   "source": [
    "menu = get_menu(\"Esplanade\")\n",
    "print(menu)"
   ]
  },
  {
   "cell_type": "code",
   "execution_count": 6,
   "id": "5bb677db-7f62-450f-8592-324823100006",
   "metadata": {},
   "outputs": [
    {
     "data": {
      "text/plain": [
       "'- Student menus 1st and 2nd floor\\n\\nSecond floor:\\nChicken peppers with mustard, homemade tomato sauce\\nCourgettes\\nFries\\n\\nCurry of homemade vegetables\\n1st floor:\\nHome marinated chicken fillet, homemade tomato sauce\\nFlat carrot beans\\nBoulgour with spices\\n\\nPenne, homemade poultry sauce\\n\\nSpinach lasagna and home ricotta\\nVegetable soup of the day:\\nCarrots and celery\\n\\n- Desserts 1st and 2nd floor\\n\\nBrownie\\nCocktail of exotic fruit\\nVanilla light\\n\\n- Crystal Shop (DRC) Cafeteria\\n\\nGlass box or on-site take-out dish\\nHome marinated chicken fillet\\nFlat carrot beans\\nBoulgour with spices\\n\\nSpinach and ricotta lasagna\\nSalad of the day\\n\\n- Origins of our meats of the day\\n\\nPoultry origin France\\n\\n'"
      ]
     },
     "execution_count": 6,
     "metadata": {},
     "output_type": "execute_result"
    }
   ],
   "source": [
    "menu"
   ]
  }
 ],
 "metadata": {
  "kernelspec": {
   "display_name": "Python 3 (ipykernel)",
   "language": "python",
   "name": "python3"
  },
  "language_info": {
   "codemirror_mode": {
    "name": "ipython",
    "version": 3
   },
   "file_extension": ".py",
   "mimetype": "text/x-python",
   "name": "python",
   "nbconvert_exporter": "python",
   "pygments_lexer": "ipython3",
   "version": "3.9.12"
  }
 },
 "nbformat": 4,
 "nbformat_minor": 5
}
