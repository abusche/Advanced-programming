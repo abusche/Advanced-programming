{
 "cells": [
  {
   "cell_type": "markdown",
   "id": "ae202cbf-df8a-44ee-a5e6-3901e16239f3",
   "metadata": {},
   "source": [
    "# Calcul de la distance à vol d'oiseau"
   ]
  },
  {
   "cell_type": "code",
   "execution_count": 18,
   "id": "c58c28ac-68e2-459b-8b05-34065030a17c",
   "metadata": {},
   "outputs": [],
   "source": [
    "import geopy\n",
    "from geopy.distance import geodesic\n",
    "import pandas as pd\n",
    "import folium\n",
    "from geopy.distance import great_circle\n",
    "from geopy.geocoders import Nominatim"
   ]
  },
  {
   "cell_type": "code",
   "execution_count": 26,
   "id": "95d0c323-cb45-42e0-968e-a598f455896f",
   "metadata": {},
   "outputs": [
    {
     "data": {
      "text/plain": [
       "(48.5845557, 7.7599737)"
      ]
     },
     "execution_count": 26,
     "metadata": {},
     "output_type": "execute_result"
    }
   ],
   "source": [
    "# Get GPS coordinates of the restaurant\n",
    "def get_gps_coordinates(location):\n",
    "    geolocator = Nominatim(user_agent=\"my_gps_app\")\n",
    "    location_info = geolocator.geocode(location)\n",
    "    if location_info:\n",
    "        latitude = location_info.latitude\n",
    "        longitude = location_info.longitude\n",
    "        return latitude, longitude\n",
    "    else:\n",
    "        return None\n",
    "\n",
    "rest_coordinates = get_gps_coordinates(\"1 Pl. de l'Université, 67000 Strasbourg\")\n",
    "rest_coordinates"
   ]
  },
  {
   "cell_type": "code",
   "execution_count": 25,
   "id": "b46e6153-a203-4a67-9b30-fc30e4f46f23",
   "metadata": {},
   "outputs": [
    {
     "name": "stdout",
     "output_type": "stream",
     "text": [
      "1.07 km\n"
     ]
    }
   ],
   "source": [
    "# Get my GPS coordinates\n",
    "def get_current_gps_coordinates():\n",
    "    g = geocoder.ip('me')\n",
    "    if g.latlng is not None:\n",
    "        return g.latlng\n",
    "    else:\n",
    "        return None\n",
    "\n",
    "if __name__ == \"__main__\":\n",
    "    my_coordinates = get_current_gps_coordinates()\n",
    "    if my_coordinates is not None:\n",
    "        latitude, longitude = my_coordinates\n",
    "\n",
    "# Measure the distance\n",
    "point1 = rest_coordinates\n",
    "point2 = (latitude, longitude)\n",
    "\n",
    "dist_great_circle = great_circle(point1, point2).kilometers\n",
    "print(round(dist_great_circle, 2), 'km')"
   ]
  },
  {
   "cell_type": "code",
   "execution_count": 23,
   "id": "1374956e-b7ac-4649-b5e4-bb68e40ecfec",
   "metadata": {},
   "outputs": [
    {
     "data": {
      "text/html": [
       "<div style=\"width:100%;\"><div style=\"position:relative;width:100%;height:0;padding-bottom:60%;\"><span style=\"color:#565656\">Make this Notebook Trusted to load map: File -> Trust Notebook</span><iframe srcdoc=\"&lt;!DOCTYPE html&gt;\n",
       "&lt;html&gt;\n",
       "&lt;head&gt;\n",
       "    \n",
       "    &lt;meta http-equiv=&quot;content-type&quot; content=&quot;text/html; charset=UTF-8&quot; /&gt;\n",
       "    \n",
       "        &lt;script&gt;\n",
       "            L_NO_TOUCH = false;\n",
       "            L_DISABLE_3D = false;\n",
       "        &lt;/script&gt;\n",
       "    \n",
       "    &lt;style&gt;html, body {width: 100%;height: 100%;margin: 0;padding: 0;}&lt;/style&gt;\n",
       "    &lt;style&gt;#map {position:absolute;top:0;bottom:0;right:0;left:0;}&lt;/style&gt;\n",
       "    &lt;script src=&quot;https://cdn.jsdelivr.net/npm/leaflet@1.9.3/dist/leaflet.js&quot;&gt;&lt;/script&gt;\n",
       "    &lt;script src=&quot;https://code.jquery.com/jquery-1.12.4.min.js&quot;&gt;&lt;/script&gt;\n",
       "    &lt;script src=&quot;https://cdn.jsdelivr.net/npm/bootstrap@5.2.2/dist/js/bootstrap.bundle.min.js&quot;&gt;&lt;/script&gt;\n",
       "    &lt;script src=&quot;https://cdnjs.cloudflare.com/ajax/libs/Leaflet.awesome-markers/2.0.2/leaflet.awesome-markers.js&quot;&gt;&lt;/script&gt;\n",
       "    &lt;link rel=&quot;stylesheet&quot; href=&quot;https://cdn.jsdelivr.net/npm/leaflet@1.9.3/dist/leaflet.css&quot;/&gt;\n",
       "    &lt;link rel=&quot;stylesheet&quot; href=&quot;https://cdn.jsdelivr.net/npm/bootstrap@5.2.2/dist/css/bootstrap.min.css&quot;/&gt;\n",
       "    &lt;link rel=&quot;stylesheet&quot; href=&quot;https://netdna.bootstrapcdn.com/bootstrap/3.0.0/css/bootstrap.min.css&quot;/&gt;\n",
       "    &lt;link rel=&quot;stylesheet&quot; href=&quot;https://cdn.jsdelivr.net/npm/@fortawesome/fontawesome-free@6.2.0/css/all.min.css&quot;/&gt;\n",
       "    &lt;link rel=&quot;stylesheet&quot; href=&quot;https://cdnjs.cloudflare.com/ajax/libs/Leaflet.awesome-markers/2.0.2/leaflet.awesome-markers.css&quot;/&gt;\n",
       "    &lt;link rel=&quot;stylesheet&quot; href=&quot;https://cdn.jsdelivr.net/gh/python-visualization/folium/folium/templates/leaflet.awesome.rotate.min.css&quot;/&gt;\n",
       "    \n",
       "            &lt;meta name=&quot;viewport&quot; content=&quot;width=device-width,\n",
       "                initial-scale=1.0, maximum-scale=1.0, user-scalable=no&quot; /&gt;\n",
       "            &lt;style&gt;\n",
       "                #map_4ddadec47670c1f07bd87cf3faed4355 {\n",
       "                    position: relative;\n",
       "                    width: 100.0%;\n",
       "                    height: 100.0%;\n",
       "                    left: 0.0%;\n",
       "                    top: 0.0%;\n",
       "                }\n",
       "                .leaflet-container { font-size: 1rem; }\n",
       "            &lt;/style&gt;\n",
       "        \n",
       "&lt;/head&gt;\n",
       "&lt;body&gt;\n",
       "    \n",
       "    \n",
       "            &lt;div class=&quot;folium-map&quot; id=&quot;map_4ddadec47670c1f07bd87cf3faed4355&quot; &gt;&lt;/div&gt;\n",
       "        \n",
       "&lt;/body&gt;\n",
       "&lt;script&gt;\n",
       "    \n",
       "    \n",
       "            var map_4ddadec47670c1f07bd87cf3faed4355 = L.map(\n",
       "                &quot;map_4ddadec47670c1f07bd87cf3faed4355&quot;,\n",
       "                {\n",
       "                    center: [48.5839, 7.7455],\n",
       "                    crs: L.CRS.EPSG3857,\n",
       "                    zoom: 12,\n",
       "                    zoomControl: true,\n",
       "                    preferCanvas: false,\n",
       "                }\n",
       "            );\n",
       "\n",
       "            \n",
       "\n",
       "        \n",
       "    \n",
       "            var tile_layer_9a86af117e71279c3d16be3f708d9ab4 = L.tileLayer(\n",
       "                &quot;https://{s}.tile.openstreetmap.org/{z}/{x}/{y}.png&quot;,\n",
       "                {&quot;attribution&quot;: &quot;Data by \\u0026copy; \\u003ca target=\\&quot;_blank\\&quot; href=\\&quot;http://openstreetmap.org\\&quot;\\u003eOpenStreetMap\\u003c/a\\u003e, under \\u003ca target=\\&quot;_blank\\&quot; href=\\&quot;http://www.openstreetmap.org/copyright\\&quot;\\u003eODbL\\u003c/a\\u003e.&quot;, &quot;detectRetina&quot;: false, &quot;maxNativeZoom&quot;: 18, &quot;maxZoom&quot;: 18, &quot;minZoom&quot;: 0, &quot;noWrap&quot;: false, &quot;opacity&quot;: 1, &quot;subdomains&quot;: &quot;abc&quot;, &quot;tms&quot;: false}\n",
       "            ).addTo(map_4ddadec47670c1f07bd87cf3faed4355);\n",
       "        \n",
       "    \n",
       "            var marker_34fc9376788b3f77c496c42143885bd3 = L.marker(\n",
       "                [48.5839, 7.7455],\n",
       "                {}\n",
       "            ).addTo(map_4ddadec47670c1f07bd87cf3faed4355);\n",
       "        \n",
       "    \n",
       "        var popup_874620a7519f024c78d1edf756f6f960 = L.popup({&quot;maxWidth&quot;: &quot;100%&quot;});\n",
       "\n",
       "        \n",
       "            \n",
       "                var html_ffd68adb0867cdf034d96876c355583f = $(`&lt;div id=&quot;html_ffd68adb0867cdf034d96876c355583f&quot; style=&quot;width: 100.0%; height: 100.0%;&quot;&gt;Point mystère n°1&lt;/div&gt;`)[0];\n",
       "                popup_874620a7519f024c78d1edf756f6f960.setContent(html_ffd68adb0867cdf034d96876c355583f);\n",
       "            \n",
       "        \n",
       "\n",
       "        marker_34fc9376788b3f77c496c42143885bd3.bindPopup(popup_874620a7519f024c78d1edf756f6f960)\n",
       "        ;\n",
       "\n",
       "        \n",
       "    \n",
       "    \n",
       "            var marker_89dcbd20c8e19a366ef69036aebf6e4c = L.marker(\n",
       "                [48.5845557, 7.7599737],\n",
       "                {}\n",
       "            ).addTo(map_4ddadec47670c1f07bd87cf3faed4355);\n",
       "        \n",
       "    \n",
       "        var popup_9761c12a1bbda85fddffb946c9347d2d = L.popup({&quot;maxWidth&quot;: &quot;100%&quot;});\n",
       "\n",
       "        \n",
       "            \n",
       "                var html_9300cd1fea27441c6fd5bf0f7d6e908d = $(`&lt;div id=&quot;html_9300cd1fea27441c6fd5bf0f7d6e908d&quot; style=&quot;width: 100.0%; height: 100.0%;&quot;&gt;Point mystère n°2&lt;/div&gt;`)[0];\n",
       "                popup_9761c12a1bbda85fddffb946c9347d2d.setContent(html_9300cd1fea27441c6fd5bf0f7d6e908d);\n",
       "            \n",
       "        \n",
       "\n",
       "        marker_89dcbd20c8e19a366ef69036aebf6e4c.bindPopup(popup_9761c12a1bbda85fddffb946c9347d2d)\n",
       "        ;\n",
       "\n",
       "        \n",
       "    \n",
       "&lt;/script&gt;\n",
       "&lt;/html&gt;\" style=\"position:absolute;width:100%;height:100%;left:0;top:0;border:none !important;\" allowfullscreen webkitallowfullscreen mozallowfullscreen></iframe></div></div>"
      ],
      "text/plain": [
       "<folium.folium.Map at 0x2108c81e310>"
      ]
     },
     "execution_count": 23,
     "metadata": {},
     "output_type": "execute_result"
    }
   ],
   "source": [
    "# Create a map\n",
    "lat1 = my_coordinates[0]\n",
    "long1 = my_coordinates[1]\n",
    "lat2 = rest_coordinates[0]\n",
    "long2 = rest_coordinates[1]\n",
    "Map = folium.Map(location = [lat1, long1], zoom_start = 12)\n",
    "folium.Marker([lat1, long1], popup = \"Point mystère n°1\").add_to(Map)\n",
    "folium.Marker([lat2, long2], popup = \"Point mystère n°2\").add_to(Map)\n",
    "Map"
   ]
  }
 ],
 "metadata": {
  "kernelspec": {
   "display_name": "Python 3 (ipykernel)",
   "language": "python",
   "name": "python3"
  },
  "language_info": {
   "codemirror_mode": {
    "name": "ipython",
    "version": 3
   },
   "file_extension": ".py",
   "mimetype": "text/x-python",
   "name": "python",
   "nbconvert_exporter": "python",
   "pygments_lexer": "ipython3",
   "version": "3.9.12"
  }
 },
 "nbformat": 4,
 "nbformat_minor": 5
}
