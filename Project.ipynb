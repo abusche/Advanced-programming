{
 "cells": [
  {
   "cell_type": "code",
   "execution_count": 1,
   "id": "9b334018",
   "metadata": {},
   "outputs": [],
   "source": [
    "import time\n",
    "from selenium import webdriver\n",
    "from selenium.webdriver.common.keys import Keys\n",
    "from selenium.webdriver.common.by import By\n",
    "from selenium.webdriver.support.ui import WebDriverWait\n",
    "from selenium.webdriver.support import expected_conditions as EC\n",
    "import pandas as pd"
   ]
  },
  {
   "cell_type": "code",
   "execution_count": 2,
   "id": "d921a327",
   "metadata": {},
   "outputs": [],
   "source": [
    "resto = [\"https://www.crous-strasbourg.fr/restaurant/cafeteria-le-pege-2/\",\n",
    "         \"https://www.crous-strasbourg.fr/restaurant/resto-u-gallia-2/\",\n",
    "         \"https://www.crous-strasbourg.fr/restaurant/resto-u-esplanade-2/\",\n",
    "         \"https://www.crous-strasbourg.fr/restaurant/resto-u-paul-appell/\",\n",
    "         \"https://www.crous-strasbourg.fr/restaurant/le-32-2/\",\n",
    "         \"https://www.crous-strasbourg.fr/restaurant/lannexe-2/\",\n",
    "         \"https://www.crous-strasbourg.fr/restaurant/resto-u-illkirch-2/\",\n",
    "         \"https://www.crous-strasbourg.fr/restaurant/cafeteria-mini-r-2/\",\n",
    "         \"https://www.crous-strasbourg.fr/restaurant/resto-u-cronenbourg-2/\",\n",
    "         \"https://www.crous-strasbourg.fr/restaurant/le-cristal-shop-ru-esplanade-2/\"\n",
    "        ]\n",
    "\n",
    "#verificare cosa offrono\n",
    "cafe = [\"https://www.crous-strasbourg.fr/restaurant/cafeteria-de-la-fac-de-droit-2/\",\n",
    "        \"https://www.crous-strasbourg.fr/restaurant/cafeteria-le-cardo-2/\",\n",
    "        \"https://www.crous-strasbourg.fr/restaurant/le-stift/\",\n",
    "        \"https://www.crous-strasbourg.fr/restaurant/cafeteria-la-misha-2/\", #indirizzo: All. du Général Rouvillois, 67000 Strasbourg\n",
    "        \"https://www.crous-strasbourg.fr/restaurant/cafeteria-le-patio-2/\",\n",
    "        \"https://www.crous-strasbourg.fr/restaurant/cafeteria-mini-r-2/\"\n",
    "]"
   ]
  },
  {
   "cell_type": "markdown",
   "id": "91bacd4f",
   "metadata": {},
   "source": [
    "**Tabella Info Restourant**"
   ]
  },
  {
   "cell_type": "code",
   "execution_count": 3,
   "id": "4112209c",
   "metadata": {},
   "outputs": [
    {
     "ename": "NoSuchElementException",
     "evalue": "Message: Unable to locate element: [id=\"tru_deselect_btn\"]; For documentation on this error, please visit: https://www.selenium.dev/documentation/webdriver/troubleshooting/errors#no-such-element-exception\nStacktrace:\nRemoteError@chrome://remote/content/shared/RemoteError.sys.mjs:8:8\nWebDriverError@chrome://remote/content/shared/webdriver/Errors.sys.mjs:193:5\nNoSuchElementError@chrome://remote/content/shared/webdriver/Errors.sys.mjs:511:5\ndom.find/</<@chrome://remote/content/shared/DOM.sys.mjs:136:16\n",
     "output_type": "error",
     "traceback": [
      "\u001b[1;31m---------------------------------------------------------------------------\u001b[0m",
      "\u001b[1;31mNoSuchElementException\u001b[0m                    Traceback (most recent call last)",
      "Input \u001b[1;32mIn [3]\u001b[0m, in \u001b[0;36m<cell line: 12>\u001b[1;34m()\u001b[0m\n\u001b[0;32m     19\u001b[0m \u001b[38;5;28;01mtry\u001b[39;00m:\n\u001b[1;32m---> 20\u001b[0m     reject_all \u001b[38;5;241m=\u001b[39m \u001b[43mdriver\u001b[49m\u001b[38;5;241;43m.\u001b[39;49m\u001b[43mfind_element\u001b[49m\u001b[43m(\u001b[49m\u001b[43mBy\u001b[49m\u001b[38;5;241;43m.\u001b[39;49m\u001b[43mXPATH\u001b[49m\u001b[43m,\u001b[49m\u001b[43m \u001b[49m\u001b[38;5;124;43m\"\u001b[39;49m\u001b[38;5;124;43m/html/body/div[6]/div/div[2]/div/div[2]/button[1]\u001b[39;49m\u001b[38;5;124;43m\"\u001b[39;49m\u001b[43m)\u001b[49m\n\u001b[0;32m     21\u001b[0m     reject_all\u001b[38;5;241m.\u001b[39mclick()\n",
      "File \u001b[1;32m~\\anaconda3\\lib\\site-packages\\selenium\\webdriver\\remote\\webdriver.py:748\u001b[0m, in \u001b[0;36mWebDriver.find_element\u001b[1;34m(self, by, value)\u001b[0m\n\u001b[0;32m    746\u001b[0m     value \u001b[38;5;241m=\u001b[39m \u001b[38;5;124mf\u001b[39m\u001b[38;5;124m'\u001b[39m\u001b[38;5;124m[name=\u001b[39m\u001b[38;5;124m\"\u001b[39m\u001b[38;5;132;01m{\u001b[39;00mvalue\u001b[38;5;132;01m}\u001b[39;00m\u001b[38;5;124m\"\u001b[39m\u001b[38;5;124m]\u001b[39m\u001b[38;5;124m'\u001b[39m\n\u001b[1;32m--> 748\u001b[0m \u001b[38;5;28;01mreturn\u001b[39;00m \u001b[38;5;28;43mself\u001b[39;49m\u001b[38;5;241;43m.\u001b[39;49m\u001b[43mexecute\u001b[49m\u001b[43m(\u001b[49m\u001b[43mCommand\u001b[49m\u001b[38;5;241;43m.\u001b[39;49m\u001b[43mFIND_ELEMENT\u001b[49m\u001b[43m,\u001b[49m\u001b[43m \u001b[49m\u001b[43m{\u001b[49m\u001b[38;5;124;43m\"\u001b[39;49m\u001b[38;5;124;43musing\u001b[39;49m\u001b[38;5;124;43m\"\u001b[39;49m\u001b[43m:\u001b[49m\u001b[43m \u001b[49m\u001b[43mby\u001b[49m\u001b[43m,\u001b[49m\u001b[43m \u001b[49m\u001b[38;5;124;43m\"\u001b[39;49m\u001b[38;5;124;43mvalue\u001b[39;49m\u001b[38;5;124;43m\"\u001b[39;49m\u001b[43m:\u001b[49m\u001b[43m \u001b[49m\u001b[43mvalue\u001b[49m\u001b[43m}\u001b[49m\u001b[43m)\u001b[49m[\u001b[38;5;124m\"\u001b[39m\u001b[38;5;124mvalue\u001b[39m\u001b[38;5;124m\"\u001b[39m]\n",
      "File \u001b[1;32m~\\anaconda3\\lib\\site-packages\\selenium\\webdriver\\remote\\webdriver.py:354\u001b[0m, in \u001b[0;36mWebDriver.execute\u001b[1;34m(self, driver_command, params)\u001b[0m\n\u001b[0;32m    353\u001b[0m \u001b[38;5;28;01mif\u001b[39;00m response:\n\u001b[1;32m--> 354\u001b[0m     \u001b[38;5;28;43mself\u001b[39;49m\u001b[38;5;241;43m.\u001b[39;49m\u001b[43merror_handler\u001b[49m\u001b[38;5;241;43m.\u001b[39;49m\u001b[43mcheck_response\u001b[49m\u001b[43m(\u001b[49m\u001b[43mresponse\u001b[49m\u001b[43m)\u001b[49m\n\u001b[0;32m    355\u001b[0m     response[\u001b[38;5;124m\"\u001b[39m\u001b[38;5;124mvalue\u001b[39m\u001b[38;5;124m\"\u001b[39m] \u001b[38;5;241m=\u001b[39m \u001b[38;5;28mself\u001b[39m\u001b[38;5;241m.\u001b[39m_unwrap_value(response\u001b[38;5;241m.\u001b[39mget(\u001b[38;5;124m\"\u001b[39m\u001b[38;5;124mvalue\u001b[39m\u001b[38;5;124m\"\u001b[39m, \u001b[38;5;28;01mNone\u001b[39;00m))\n",
      "File \u001b[1;32m~\\anaconda3\\lib\\site-packages\\selenium\\webdriver\\remote\\errorhandler.py:229\u001b[0m, in \u001b[0;36mErrorHandler.check_response\u001b[1;34m(self, response)\u001b[0m\n\u001b[0;32m    228\u001b[0m     \u001b[38;5;28;01mraise\u001b[39;00m exception_class(message, screen, stacktrace, alert_text)  \u001b[38;5;66;03m# type: ignore[call-arg]  # mypy is not smart enough here\u001b[39;00m\n\u001b[1;32m--> 229\u001b[0m \u001b[38;5;28;01mraise\u001b[39;00m exception_class(message, screen, stacktrace)\n",
      "\u001b[1;31mNoSuchElementException\u001b[0m: Message: Unable to locate element: /html/body/div[6]/div/div[2]/div/div[2]/button[1]; For documentation on this error, please visit: https://www.selenium.dev/documentation/webdriver/troubleshooting/errors#no-such-element-exception\nStacktrace:\nRemoteError@chrome://remote/content/shared/RemoteError.sys.mjs:8:8\nWebDriverError@chrome://remote/content/shared/webdriver/Errors.sys.mjs:193:5\nNoSuchElementError@chrome://remote/content/shared/webdriver/Errors.sys.mjs:511:5\ndom.find/</<@chrome://remote/content/shared/DOM.sys.mjs:136:16\n",
      "\nDuring handling of the above exception, another exception occurred:\n",
      "\u001b[1;31mNoSuchElementException\u001b[0m                    Traceback (most recent call last)",
      "Input \u001b[1;32mIn [3]\u001b[0m, in \u001b[0;36m<cell line: 12>\u001b[1;34m()\u001b[0m\n\u001b[0;32m     21\u001b[0m     reject_all\u001b[38;5;241m.\u001b[39mclick()\n\u001b[0;32m     22\u001b[0m \u001b[38;5;28;01mexcept\u001b[39;00m \u001b[38;5;167;01mException\u001b[39;00m \u001b[38;5;28;01mas\u001b[39;00m e:\n\u001b[1;32m---> 23\u001b[0m     reject_all \u001b[38;5;241m=\u001b[39m \u001b[43mdriver\u001b[49m\u001b[38;5;241;43m.\u001b[39;49m\u001b[43mfind_element\u001b[49m\u001b[43m(\u001b[49m\u001b[43mBy\u001b[49m\u001b[38;5;241;43m.\u001b[39;49m\u001b[43mID\u001b[49m\u001b[43m,\u001b[49m\u001b[43m \u001b[49m\u001b[38;5;124;43m\"\u001b[39;49m\u001b[38;5;124;43mtru_deselect_btn\u001b[39;49m\u001b[38;5;124;43m\"\u001b[39;49m\u001b[43m)\u001b[49m\n\u001b[0;32m     24\u001b[0m     reject_all\u001b[38;5;241m.\u001b[39mclick()\n\u001b[0;32m     27\u001b[0m info_div \u001b[38;5;241m=\u001b[39m driver\u001b[38;5;241m.\u001b[39mfind_elements(By\u001b[38;5;241m.\u001b[39mCSS_SELECTOR, \u001b[38;5;124m'\u001b[39m\u001b[38;5;124mdiv.info\u001b[39m\u001b[38;5;124m'\u001b[39m)\n",
      "File \u001b[1;32m~\\anaconda3\\lib\\site-packages\\selenium\\webdriver\\remote\\webdriver.py:748\u001b[0m, in \u001b[0;36mWebDriver.find_element\u001b[1;34m(self, by, value)\u001b[0m\n\u001b[0;32m    745\u001b[0m     by \u001b[38;5;241m=\u001b[39m By\u001b[38;5;241m.\u001b[39mCSS_SELECTOR\n\u001b[0;32m    746\u001b[0m     value \u001b[38;5;241m=\u001b[39m \u001b[38;5;124mf\u001b[39m\u001b[38;5;124m'\u001b[39m\u001b[38;5;124m[name=\u001b[39m\u001b[38;5;124m\"\u001b[39m\u001b[38;5;132;01m{\u001b[39;00mvalue\u001b[38;5;132;01m}\u001b[39;00m\u001b[38;5;124m\"\u001b[39m\u001b[38;5;124m]\u001b[39m\u001b[38;5;124m'\u001b[39m\n\u001b[1;32m--> 748\u001b[0m \u001b[38;5;28;01mreturn\u001b[39;00m \u001b[38;5;28;43mself\u001b[39;49m\u001b[38;5;241;43m.\u001b[39;49m\u001b[43mexecute\u001b[49m\u001b[43m(\u001b[49m\u001b[43mCommand\u001b[49m\u001b[38;5;241;43m.\u001b[39;49m\u001b[43mFIND_ELEMENT\u001b[49m\u001b[43m,\u001b[49m\u001b[43m \u001b[49m\u001b[43m{\u001b[49m\u001b[38;5;124;43m\"\u001b[39;49m\u001b[38;5;124;43musing\u001b[39;49m\u001b[38;5;124;43m\"\u001b[39;49m\u001b[43m:\u001b[49m\u001b[43m \u001b[49m\u001b[43mby\u001b[49m\u001b[43m,\u001b[49m\u001b[43m \u001b[49m\u001b[38;5;124;43m\"\u001b[39;49m\u001b[38;5;124;43mvalue\u001b[39;49m\u001b[38;5;124;43m\"\u001b[39;49m\u001b[43m:\u001b[49m\u001b[43m \u001b[49m\u001b[43mvalue\u001b[49m\u001b[43m}\u001b[49m\u001b[43m)\u001b[49m[\u001b[38;5;124m\"\u001b[39m\u001b[38;5;124mvalue\u001b[39m\u001b[38;5;124m\"\u001b[39m]\n",
      "File \u001b[1;32m~\\anaconda3\\lib\\site-packages\\selenium\\webdriver\\remote\\webdriver.py:354\u001b[0m, in \u001b[0;36mWebDriver.execute\u001b[1;34m(self, driver_command, params)\u001b[0m\n\u001b[0;32m    352\u001b[0m response \u001b[38;5;241m=\u001b[39m \u001b[38;5;28mself\u001b[39m\u001b[38;5;241m.\u001b[39mcommand_executor\u001b[38;5;241m.\u001b[39mexecute(driver_command, params)\n\u001b[0;32m    353\u001b[0m \u001b[38;5;28;01mif\u001b[39;00m response:\n\u001b[1;32m--> 354\u001b[0m     \u001b[38;5;28;43mself\u001b[39;49m\u001b[38;5;241;43m.\u001b[39;49m\u001b[43merror_handler\u001b[49m\u001b[38;5;241;43m.\u001b[39;49m\u001b[43mcheck_response\u001b[49m\u001b[43m(\u001b[49m\u001b[43mresponse\u001b[49m\u001b[43m)\u001b[49m\n\u001b[0;32m    355\u001b[0m     response[\u001b[38;5;124m\"\u001b[39m\u001b[38;5;124mvalue\u001b[39m\u001b[38;5;124m\"\u001b[39m] \u001b[38;5;241m=\u001b[39m \u001b[38;5;28mself\u001b[39m\u001b[38;5;241m.\u001b[39m_unwrap_value(response\u001b[38;5;241m.\u001b[39mget(\u001b[38;5;124m\"\u001b[39m\u001b[38;5;124mvalue\u001b[39m\u001b[38;5;124m\"\u001b[39m, \u001b[38;5;28;01mNone\u001b[39;00m))\n\u001b[0;32m    356\u001b[0m     \u001b[38;5;28;01mreturn\u001b[39;00m response\n",
      "File \u001b[1;32m~\\anaconda3\\lib\\site-packages\\selenium\\webdriver\\remote\\errorhandler.py:229\u001b[0m, in \u001b[0;36mErrorHandler.check_response\u001b[1;34m(self, response)\u001b[0m\n\u001b[0;32m    227\u001b[0m         alert_text \u001b[38;5;241m=\u001b[39m value[\u001b[38;5;124m\"\u001b[39m\u001b[38;5;124malert\u001b[39m\u001b[38;5;124m\"\u001b[39m]\u001b[38;5;241m.\u001b[39mget(\u001b[38;5;124m\"\u001b[39m\u001b[38;5;124mtext\u001b[39m\u001b[38;5;124m\"\u001b[39m)\n\u001b[0;32m    228\u001b[0m     \u001b[38;5;28;01mraise\u001b[39;00m exception_class(message, screen, stacktrace, alert_text)  \u001b[38;5;66;03m# type: ignore[call-arg]  # mypy is not smart enough here\u001b[39;00m\n\u001b[1;32m--> 229\u001b[0m \u001b[38;5;28;01mraise\u001b[39;00m exception_class(message, screen, stacktrace)\n",
      "\u001b[1;31mNoSuchElementException\u001b[0m: Message: Unable to locate element: [id=\"tru_deselect_btn\"]; For documentation on this error, please visit: https://www.selenium.dev/documentation/webdriver/troubleshooting/errors#no-such-element-exception\nStacktrace:\nRemoteError@chrome://remote/content/shared/RemoteError.sys.mjs:8:8\nWebDriverError@chrome://remote/content/shared/webdriver/Errors.sys.mjs:193:5\nNoSuchElementError@chrome://remote/content/shared/webdriver/Errors.sys.mjs:511:5\ndom.find/</<@chrome://remote/content/shared/DOM.sys.mjs:136:16\n"
     ]
    }
   ],
   "source": [
    "restoInfo = {\"hours\": [],\n",
    "            \"address\": [],\n",
    "            \"payment\": [],\n",
    "            \"services\": []}\n",
    "\n",
    "menuInfo = {\"address\": [],\n",
    "           \"day\": [],\n",
    "           \"lunch\": [],\n",
    "           \"dinner\": []}\n",
    "\n",
    "driver = webdriver.Firefox()\n",
    "for i in resto:\n",
    "    driver.get(i)\n",
    "    \n",
    "    element = WebDriverWait(driver, 10).until(\n",
    "        EC.text_to_be_present_in_element((By.CSS_SELECTOR, 'div.info'), \"HORAIRES\")\n",
    "    )\n",
    "\n",
    "    try:\n",
    "        reject_all = driver.find_element(By.XPATH, \"/html/body/div[6]/div/div[2]/div/div[2]/button[1]\")\n",
    "        reject_all.click()\n",
    "    except Exception as e:\n",
    "        reject_all = driver.find_element(By.ID, \"tru_deselect_btn\")\n",
    "        reject_all.click()\n",
    "\n",
    "\n",
    "    info_div = driver.find_elements(By.CSS_SELECTOR, 'div.info')\n",
    "    for div in info_div:\n",
    "        if \"HORAIRES\" in div.text:\n",
    "            lines = div.text.split('\\n')\n",
    "            restoInfo[\"hours\"].append(lines[1:])\n",
    "            \n",
    "        if \"ADRESSE\" in div.text:\n",
    "            lines = div.text.split('\\n')\n",
    "            address = lines[1:][0]\n",
    "            if \"67000\" not in address and \"67400\" not in address and \"67200\" not in address:\n",
    "                address = address + \" 67000 Strasbourg\"\n",
    "            restoInfo[\"address\"].append(address)        \n",
    "        \n",
    "        if \"PAIEMENT POSSIBLE\" in div.text:\n",
    "            lines = div.text.split('\\n')\n",
    "            restoInfo[\"payment\"].append(lines[1:])\n",
    "            \n",
    "        if \"PRATIQUE\" in div.text:\n",
    "            lines = div.text.split('\\n')\n",
    "            restoInfo[\"services\"].append(lines[1:])\n",
    "           \n",
    "        \n",
    "    date = driver.find_elements(By.CSS_SELECTOR, 'time.menu_date_title')\n",
    "    for j in range(len(date)):\n",
    "        driver.execute_script(\"window.scrollBy(0, 300);\")\n",
    "        time.sleep(0.5)\n",
    "        date = driver.find_elements(By.CSS_SELECTOR, 'time.menu_date_title')\n",
    "\n",
    "        meal_div = driver.find_elements(By.CSS_SELECTOR, 'div.meal')\n",
    "        x = []\n",
    "        for meal in meal_div:\n",
    "            if meal.text != \"\":\n",
    "                x.append(meal.text)\n",
    "\n",
    "        menuInfo[\"address\"].append(address)\n",
    "        menuInfo[\"day\"].append(' '.join(date[j].text.split()[2:5]))\n",
    "        \n",
    "        if len(x) == 2:\n",
    "            menuInfo[\"lunch\"].append(x[0])\n",
    "            menuInfo[\"dinner\"].append(x[1])\n",
    "        elif len(x) == 1:\n",
    "            menuInfo[\"lunch\"].append(x[0])\n",
    "            menuInfo[\"dinner\"].append(\"\")\n",
    "        elif len(x) == 0:\n",
    "            menuInfo[\"lunch\"].append(\"\")\n",
    "            menuInfo[\"dinner\"].append(\"\")\n",
    "        \n",
    "\n",
    "        next_button = driver.find_element(By.XPATH, f\"/html/body/article/div/section[1]/div/div/div[{j+1}]/div[1]/div[2]\")\n",
    "        next_button.click()\n",
    "\n",
    "driver.quit()\n",
    "\n",
    "restoInfo = pd.DataFrame(restoInfo)\n",
    "menuInfo = pd.DataFrame(menuInfo)"
   ]
  },
  {
   "cell_type": "code",
   "execution_count": 4,
   "id": "a5d0d4e8",
   "metadata": {
    "scrolled": true
   },
   "outputs": [
    {
     "data": {
      "text/plain": [
       "{'hours': [['07h30 à 14h30']],\n",
       " 'address': ['61 avenue de la Forêt Noire - 67000 Strasbourg'],\n",
       " 'payment': [['Carte bancaire', 'IZLY']],\n",
       " 'services': [['Accès handicapé', 'Accès wifi']]}"
      ]
     },
     "execution_count": 4,
     "metadata": {},
     "output_type": "execute_result"
    }
   ],
   "source": [
    "restoInfo"
   ]
  },
  {
   "cell_type": "code",
   "execution_count": 5,
   "id": "f7f89a4e",
   "metadata": {
    "scrolled": true
   },
   "outputs": [
    {
     "data": {
      "text/plain": [
       "{'address': ['61 avenue de la Forêt Noire - 67000 Strasbourg',\n",
       "  '61 avenue de la Forêt Noire - 67000 Strasbourg'],\n",
       " 'day': ['jeudi 10 octobre', 'vendredi 11 octobre'],\n",
       " 'lunch': ['Déjeuner\\nPetit-déjeuner\\nCafé & Viennoiseries\\n7h30 -10h30\\nPlat du jour\\nTajine de dinde au citron\\nSemoule\\nVégétarien\\nTajine aux légumes\\nSemoule\\nOrigine de nos viandes du jour\\nFRANCE',\n",
       "  'Déjeuner\\nPetit-déjeuner\\nCafé & Viennoiseries\\n7h30 -10h30\\nPlat du jour\\nEmincé de bœuf Stroganov\\nHaricots bio\\nFrites\\nVégétarien\\nCurry de pois chiches aux légumes\\nRiz aux épices & oignons frits\\nOrigine de nos viandes du jour\\nFRANCE'],\n",
       " 'dinner': ['', '']}"
      ]
     },
     "execution_count": 5,
     "metadata": {},
     "output_type": "execute_result"
    }
   ],
   "source": [
    "menuInfo"
   ]
  },
  {
   "cell_type": "code",
   "execution_count": 6,
   "id": "eaf837de",
   "metadata": {},
   "outputs": [
    {
     "ename": "TimeoutException",
     "evalue": "Message: \n",
     "output_type": "error",
     "traceback": [
      "\u001b[1;31m---------------------------------------------------------------------------\u001b[0m",
      "\u001b[1;31mTimeoutException\u001b[0m                          Traceback (most recent call last)",
      "Input \u001b[1;32mIn [6]\u001b[0m, in \u001b[0;36m<cell line: 87>\u001b[1;34m()\u001b[0m\n\u001b[0;32m    109\u001b[0m current_address \u001b[38;5;241m=\u001b[39m resto_data[\u001b[38;5;124m\"\u001b[39m\u001b[38;5;124maddress\u001b[39m\u001b[38;5;124m\"\u001b[39m][\u001b[38;5;241m-\u001b[39m\u001b[38;5;241m1\u001b[39m] \u001b[38;5;28;01mif\u001b[39;00m resto_data[\u001b[38;5;124m\"\u001b[39m\u001b[38;5;124maddress\u001b[39m\u001b[38;5;124m\"\u001b[39m] \u001b[38;5;28;01melse\u001b[39;00m \u001b[38;5;124m\"\u001b[39m\u001b[38;5;124m\"\u001b[39m\n\u001b[0;32m    111\u001b[0m \u001b[38;5;66;03m# Estrazione delle informazioni sui menù\u001b[39;00m\n\u001b[1;32m--> 112\u001b[0m menu_data \u001b[38;5;241m=\u001b[39m \u001b[43mextract_menu_info\u001b[49m\u001b[43m(\u001b[49m\u001b[43mdriver\u001b[49m\u001b[43m,\u001b[49m\u001b[43m \u001b[49m\u001b[43mcurrent_address\u001b[49m\u001b[43m)\u001b[49m\n\u001b[0;32m    114\u001b[0m \u001b[38;5;66;03m# Aggiornamento dei dati dei menù\u001b[39;00m\n\u001b[0;32m    115\u001b[0m menuInfo[\u001b[38;5;124m\"\u001b[39m\u001b[38;5;124maddress\u001b[39m\u001b[38;5;124m\"\u001b[39m]\u001b[38;5;241m.\u001b[39mextend(menu_data[\u001b[38;5;124m\"\u001b[39m\u001b[38;5;124maddress\u001b[39m\u001b[38;5;124m\"\u001b[39m])\n",
      "Input \u001b[1;32mIn [6]\u001b[0m, in \u001b[0;36mextract_menu_info\u001b[1;34m(driver, address)\u001b[0m\n\u001b[0;32m     47\u001b[0m \u001b[38;5;28;01mfor\u001b[39;00m j, date_elem \u001b[38;5;129;01min\u001b[39;00m \u001b[38;5;28menumerate\u001b[39m(date_elements):\n\u001b[0;32m     48\u001b[0m     \u001b[38;5;66;03m# Scroll migliorato tramite script\u001b[39;00m\n\u001b[0;32m     49\u001b[0m     driver\u001b[38;5;241m.\u001b[39mexecute_script(\u001b[38;5;124m\"\u001b[39m\u001b[38;5;124mwindow.scrollBy(0, 300);\u001b[39m\u001b[38;5;124m\"\u001b[39m)\n\u001b[1;32m---> 50\u001b[0m     \u001b[43mWebDriverWait\u001b[49m\u001b[43m(\u001b[49m\u001b[43mdriver\u001b[49m\u001b[43m,\u001b[49m\u001b[43m \u001b[49m\u001b[38;5;241;43m5\u001b[39;49m\u001b[43m)\u001b[49m\u001b[38;5;241;43m.\u001b[39;49m\u001b[43muntil\u001b[49m\u001b[43m(\u001b[49m\n\u001b[0;32m     51\u001b[0m \u001b[43m        \u001b[49m\u001b[43mEC\u001b[49m\u001b[38;5;241;43m.\u001b[39;49m\u001b[43mvisibility_of\u001b[49m\u001b[43m(\u001b[49m\u001b[43mdate_elem\u001b[49m\u001b[43m)\u001b[49m\n\u001b[0;32m     52\u001b[0m \u001b[43m    \u001b[49m\u001b[43m)\u001b[49m\n\u001b[0;32m     54\u001b[0m     \u001b[38;5;66;03m# Estrarre le informazioni dei pasti\u001b[39;00m\n\u001b[0;32m     55\u001b[0m     meal_div \u001b[38;5;241m=\u001b[39m driver\u001b[38;5;241m.\u001b[39mfind_elements(By\u001b[38;5;241m.\u001b[39mCSS_SELECTOR, \u001b[38;5;124m'\u001b[39m\u001b[38;5;124mdiv.meal\u001b[39m\u001b[38;5;124m'\u001b[39m)\n",
      "File \u001b[1;32m~\\anaconda3\\lib\\site-packages\\selenium\\webdriver\\support\\wait.py:105\u001b[0m, in \u001b[0;36mWebDriverWait.until\u001b[1;34m(self, method, message)\u001b[0m\n\u001b[0;32m    103\u001b[0m     \u001b[38;5;28;01mif\u001b[39;00m time\u001b[38;5;241m.\u001b[39mmonotonic() \u001b[38;5;241m>\u001b[39m end_time:\n\u001b[0;32m    104\u001b[0m         \u001b[38;5;28;01mbreak\u001b[39;00m\n\u001b[1;32m--> 105\u001b[0m \u001b[38;5;28;01mraise\u001b[39;00m TimeoutException(message, screen, stacktrace)\n",
      "\u001b[1;31mTimeoutException\u001b[0m: Message: \n"
     ]
    }
   ],
   "source": [
    "# Funzione per gestire il click su eventuali popup\n",
    "def close_popups(driver):\n",
    "    try:\n",
    "        reject_all = driver.find_element(By.XPATH, \"/html/body/div[6]/div/div[2]/div/div[2]/button[1]\")\n",
    "        reject_all.click()\n",
    "    except Exception:\n",
    "        try:\n",
    "            reject_all = driver.find_element(By.ID, \"tru_deselect_btn\")\n",
    "            reject_all.click()\n",
    "        except Exception:\n",
    "            pass\n",
    "\n",
    "# Funzione per estrarre informazioni generali del ristorante\n",
    "def extract_restaurant_info(info_div):\n",
    "    resto_data = {\"hours\": [], \"address\": [], \"payment\": [], \"services\": []}\n",
    "    \n",
    "    for div in info_div:\n",
    "        text = div.text\n",
    "        if \"HORAIRES\" in text:\n",
    "            lines = text.split('\\n')\n",
    "            resto_data[\"hours\"].append(lines[1:])\n",
    "        \n",
    "        if \"ADRESSE\" in text:\n",
    "            lines = text.split('\\n')\n",
    "            address = lines[1]\n",
    "            if not any(code in address for code in [\"67000\", \"67400\", \"67200\"]):\n",
    "                address += \" 67000 Strasbourg\"\n",
    "            resto_data[\"address\"].append(address)\n",
    "\n",
    "        if \"PAIEMENT POSSIBLE\" in text:\n",
    "            lines = text.split('\\n')\n",
    "            resto_data[\"payment\"].append(lines[1:])\n",
    "        \n",
    "        if \"PRATIQUE\" in text:\n",
    "            lines = text.split('\\n')\n",
    "            resto_data[\"services\"].append(lines[1:])\n",
    "    \n",
    "    return resto_data\n",
    "\n",
    "# Funzione per estrarre i menù\n",
    "def extract_menu_info(driver, address):\n",
    "    menu_data = {\"address\": [], \"day\": [], \"lunch\": [], \"dinner\": []}\n",
    "    \n",
    "    # Estrazione delle date dei menù\n",
    "    date_elements = driver.find_elements(By.CSS_SELECTOR, 'time.menu_date_title')\n",
    "    \n",
    "    for j, date_elem in enumerate(date_elements):\n",
    "        # Scroll migliorato tramite script\n",
    "        driver.execute_script(\"window.scrollBy(0, 300);\")\n",
    "        WebDriverWait(driver, 5).until(\n",
    "            EC.visibility_of(date_elem)\n",
    "        )\n",
    "\n",
    "        # Estrarre le informazioni dei pasti\n",
    "        meal_div = driver.find_elements(By.CSS_SELECTOR, 'div.meal')\n",
    "        meals = [meal.text for meal in meal_div if meal.text]\n",
    "\n",
    "        menu_data[\"address\"].append(address)\n",
    "        menu_data[\"day\"].append(' '.join(date_elem.text.split()[2:5]))\n",
    "        \n",
    "        if len(meals) == 2:\n",
    "            menu_data[\"lunch\"].append(meals[0])\n",
    "            menu_data[\"dinner\"].append(meals[1])\n",
    "        elif len(meals) == 1:\n",
    "            menu_data[\"lunch\"].append(meals[0])\n",
    "            menu_data[\"dinner\"].append(\"\")\n",
    "        else:\n",
    "            menu_data[\"lunch\"].append(\"\")\n",
    "            menu_data[\"dinner\"].append(\"\")\n",
    "        \n",
    "        # Gestione del click sul bottone per il menù successivo\n",
    "        try:\n",
    "            next_button = driver.find_element(By.XPATH, f\"/html/body/article/div/section[1]/div/div/div[{j+1}]/div[1]/div[2]\")\n",
    "            next_button.click()\n",
    "        except Exception as e:\n",
    "            pass  # Se non c'è il bottone, passiamo semplicemente al prossimo\n",
    "    \n",
    "    return menu_data\n",
    "\n",
    "# Impostazioni iniziali\n",
    "restoInfo = {\"hours\": [], \"address\": [], \"payment\": [], \"services\": []}\n",
    "menuInfo = {\"address\": [], \"day\": [], \"lunch\": [], \"dinner\": []}\n",
    "\n",
    "driver = webdriver.Firefox()\n",
    "\n",
    "# Iterazione sui ristoranti\n",
    "for i in resto:\n",
    "    driver.get(i)\n",
    "    \n",
    "    # Attesa della presenza del div con le informazioni del ristorante\n",
    "    WebDriverWait(driver, 10).until(\n",
    "        EC.text_to_be_present_in_element((By.CSS_SELECTOR, 'div.info'), \"HORAIRES\")\n",
    "    )\n",
    "    \n",
    "    # Chiusura popup\n",
    "    close_popups(driver)\n",
    "    \n",
    "    # Estrazione delle informazioni del ristorante\n",
    "    info_div = driver.find_elements(By.CSS_SELECTOR, 'div.info')\n",
    "    resto_data = extract_restaurant_info(info_div)\n",
    "    \n",
    "    # Aggiornamento dei dati del ristorante\n",
    "    restoInfo[\"hours\"].extend(resto_data[\"hours\"])\n",
    "    restoInfo[\"address\"].extend(resto_data[\"address\"])\n",
    "    restoInfo[\"payment\"].extend(resto_data[\"payment\"])\n",
    "    restoInfo[\"services\"].extend(resto_data[\"services\"])\n",
    "    \n",
    "    # Estrazione dell'indirizzo corrente (sarà usato per i menù)\n",
    "    current_address = resto_data[\"address\"][-1] if resto_data[\"address\"] else \"\"\n",
    "\n",
    "    # Estrazione delle informazioni sui menù\n",
    "    menu_data = extract_menu_info(driver, current_address)\n",
    "    \n",
    "    # Aggiornamento dei dati dei menù\n",
    "    menuInfo[\"address\"].extend(menu_data[\"address\"])\n",
    "    menuInfo[\"day\"].extend(menu_data[\"day\"])\n",
    "    menuInfo[\"lunch\"].extend(menu_data[\"lunch\"])\n",
    "    menuInfo[\"dinner\"].extend(menu_data[\"dinner\"])\n",
    "\n",
    "# Chiudere il driver\n",
    "driver.quit()\n",
    "\n",
    "# Creazione dei DataFrame\n",
    "restoInfo = pd.DataFrame(restoInfo)\n",
    "menuInfo = pd.DataFrame(menuInfo)\n"
   ]
  },
  {
   "cell_type": "code",
   "execution_count": 8,
   "id": "aa838a98-efc5-40cb-baa1-6b7cc68a6103",
   "metadata": {},
   "outputs": [
    {
     "ename": "NameError",
     "evalue": "name 'np' is not defined",
     "output_type": "error",
     "traceback": [
      "\u001b[1;31m---------------------------------------------------------------------------\u001b[0m",
      "\u001b[1;31mNameError\u001b[0m                                 Traceback (most recent call last)",
      "Input \u001b[1;32mIn [8]\u001b[0m, in \u001b[0;36m<cell line: 1>\u001b[1;34m()\u001b[0m\n\u001b[1;32m----> 1\u001b[0m \u001b[43mnp\u001b[49m\u001b[38;5;241m.\u001b[39mtoday()\n",
      "\u001b[1;31mNameError\u001b[0m: name 'np' is not defined"
     ]
    }
   ],
   "source": [
    "\n",
    "np.today()"
   ]
  }
 ],
 "metadata": {
  "kernelspec": {
   "display_name": "Python 3 (ipykernel)",
   "language": "python",
   "name": "python3"
  },
  "language_info": {
   "codemirror_mode": {
    "name": "ipython",
    "version": 3
   },
   "file_extension": ".py",
   "mimetype": "text/x-python",
   "name": "python",
   "nbconvert_exporter": "python",
   "pygments_lexer": "ipython3",
   "version": "3.9.12"
  }
 },
 "nbformat": 4,
 "nbformat_minor": 5
}
