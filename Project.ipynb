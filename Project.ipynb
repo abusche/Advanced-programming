{
 "cells": [
  {
   "cell_type": "code",
   "execution_count": 1,
   "id": "9b334018",
   "metadata": {},
   "outputs": [],
   "source": [
    "import time\n",
    "from selenium import webdriver\n",
    "from selenium.webdriver.common.keys import Keys\n",
    "from selenium.webdriver.common.by import By\n",
    "from selenium.webdriver.support.ui import WebDriverWait\n",
    "from selenium.webdriver.support import expected_conditions as EC\n",
    "import pandas as pd\n",
    "import re\n",
    "import sqlite3\n",
    "from datetime import datetime"
   ]
  },
  {
   "cell_type": "code",
   "execution_count": null,
   "id": "d921a327",
   "metadata": {},
   "outputs": [],
   "source": [
    "resto = [\"https://www.crous-strasbourg.fr/restaurant/cafeteria-le-pege-2/\",\n",
    "         \"https://www.crous-strasbourg.fr/restaurant/resto-u-gallia-2/\",\n",
    "         \"https://www.crous-strasbourg.fr/restaurant/resto-u-esplanade-2/\",\n",
    "         \"https://www.crous-strasbourg.fr/restaurant/resto-u-paul-appell/\",\n",
    "         \"https://www.crous-strasbourg.fr/restaurant/le-32-2/\",\n",
    "         \"https://www.crous-strasbourg.fr/restaurant/lannexe-2/\",\n",
    "         \"https://www.crous-strasbourg.fr/restaurant/resto-u-illkirch-2/\",\n",
    "         \"https://www.crous-strasbourg.fr/restaurant/cafeteria-mini-r-2/\",\n",
    "         \"https://www.crous-strasbourg.fr/restaurant/resto-u-cronenbourg-2/\",\n",
    "         \"https://www.crous-strasbourg.fr/restaurant/le-cristal-shop-ru-esplanade-2/\"\n",
    "        ]\n",
    "\n",
    "#verificare cosa offrono\n",
    "cafe = [\"https://www.crous-strasbourg.fr/restaurant/cafeteria-de-la-fac-de-droit-2/\",\n",
    "        \"https://www.crous-strasbourg.fr/restaurant/cafeteria-le-cardo-2/\",\n",
    "        \"https://www.crous-strasbourg.fr/restaurant/le-stift/\",\n",
    "        \"https://www.crous-strasbourg.fr/restaurant/cafeteria-la-misha-2/\", #indirizzo: All. du Général Rouvillois, 67000 Strasbourg\n",
    "        \"https://www.crous-strasbourg.fr/restaurant/cafeteria-le-patio-2/\",\n",
    "        \"https://www.crous-strasbourg.fr/restaurant/cafeteria-mini-r-2/\"\n",
    "]"
   ]
  },
  {
   "cell_type": "markdown",
   "id": "e3184bcb",
   "metadata": {},
   "source": [
    "# Function scrape information restaurant"
   ]
  },
  {
   "cell_type": "code",
   "execution_count": null,
   "id": "00ec8ebe",
   "metadata": {},
   "outputs": [],
   "source": [
    "def ScrapeInfo():\n",
    "    restoInfo = {\"name\" : [], \"link\" : [], \"hours\": [], \"address\": [], \"payment\": [], \"services\": []}\n",
    "    \n",
    "    driver = webdriver.Firefox()\n",
    "    \n",
    "    for i in resto:\n",
    "        driver.get(i)\n",
    "\n",
    "        element = WebDriverWait(driver, 10).until(\n",
    "            EC.text_to_be_present_in_element((By.CSS_SELECTOR, 'div.info'), \"HORAIRES\")\n",
    "        )\n",
    "\n",
    "        try:\n",
    "            reject_all = driver.find_element(By.XPATH, \"/html/body/div[6]/div/div[2]/div/div[2]/button[1]\")\n",
    "            reject_all.click()\n",
    "        except Exception:\n",
    "            try:\n",
    "                reject_all = driver.find_element(By.ID, \"tru_deselect_btn\")\n",
    "                reject_all.click()\n",
    "            except Exception:\n",
    "                pass\n",
    "\n",
    "            \n",
    "        restoInfo[\"name\"].append(re.search(r'/([a-zA-Z0-9\\-]+?)(?:-\\d+)?/$', i).group(1).replace(\"-\",\" \"))\n",
    "            \n",
    "        restoInfo['link'].append(i)\n",
    "\n",
    "        info_div = driver.find_elements(By.CSS_SELECTOR, 'div.info')\n",
    "        for div in info_div:\n",
    "            \n",
    "            if \"HORAIRES\" in div.text:\n",
    "                lines = div.text.split('\\n')\n",
    "                restoInfo[\"hours\"].append(\" \".join(lines[1:]))\n",
    "\n",
    "            if \"ADRESSE\" in div.text:\n",
    "                lines = div.text.split('\\n')\n",
    "                address = lines[1:][0]\n",
    "                if \"67000\" not in address and \"67400\" not in address and \"67200\" not in address:\n",
    "                    address = address + \" 67000 Strasbourg\"\n",
    "                restoInfo[\"address\"].append(address)        \n",
    "\n",
    "            if \"PAIEMENT POSSIBLE\" in div.text:\n",
    "                lines = div.text.split('\\n')\n",
    "                restoInfo[\"payment\"].append(\", \".join(lines[1:]))\n",
    "\n",
    "            if \"PRATIQUE\" in div.text:\n",
    "                lines = div.text.split('\\n')\n",
    "                restoInfo[\"services\"].append(\", \".join(lines[1:]))\n",
    "\n",
    "    driver.quit()\n",
    "\n",
    "    return pd.DataFrame(restoInfo)\n",
    "    \n",
    "    "
   ]
  },
  {
   "cell_type": "code",
   "execution_count": null,
   "id": "3d4299f4",
   "metadata": {},
   "outputs": [],
   "source": [
    "infoDB = ScrapeInfo()\n",
    "infoDB"
   ]
  },
  {
   "cell_type": "code",
   "execution_count": null,
   "id": "baddb84e",
   "metadata": {},
   "outputs": [],
   "source": [
    "conn = sqlite3.connect('info.db')\n",
    "infoDB.to_sql('my_table', conn, if_exists='replace', index=False)\n",
    "conn.close()"
   ]
  },
  {
   "cell_type": "markdown",
   "id": "01590b4b",
   "metadata": {},
   "source": [
    "# Function scrape menu "
   ]
  },
  {
   "cell_type": "code",
   "execution_count": 4,
   "id": "0cd8e896",
   "metadata": {},
   "outputs": [],
   "source": [
    "def get_today_date():\n",
    "    # get today date\n",
    "    today = datetime.today()\n",
    "    # format the day like \"jeudi 10 octobre\"\n",
    "    formatted_date = today.strftime(\"%A %d %B\")\n",
    "    return formatted_date\n",
    "\n",
    "def ScrapeMenu(link, day):\n",
    "    menuInfo = {\"day\": [], \"lunch\": [], \"dinner\": []}\n",
    "    \n",
    "    driver = webdriver.Firefox()\n",
    "    driver.get(link)\n",
    "    \n",
    "    # Cookies button\n",
    "    try:\n",
    "        reject_all = driver.find_element(By.XPATH, \"/html/body/div[6]/div/div[2]/div/div[2]/button[1]\")\n",
    "        reject_all.click()\n",
    "    except Exception:\n",
    "        try:\n",
    "            reject_all = driver.find_element(By.ID, \"tru_deselect_btn\")\n",
    "            reject_all.click()\n",
    "        except Exception:\n",
    "            pass\n",
    "    \n",
    "    # Find the right day\n",
    "    d = 0\n",
    "    date_elements = driver.find_elements(By.CSS_SELECTOR, 'time.menu_date_title')\n",
    "    scraped_day = ' '.join(date_elements[d].text.split()[2:5])\n",
    "    print(scraped_day)\n",
    "    # Move until the right day\n",
    "    while scraped_day != day:\n",
    "        driver.execute_script(\"window.scrollBy(0, 300);\")\n",
    "        \n",
    "        try:\n",
    "            next_button = driver.find_element(By.XPATH, f\"/html/body/article/div/section[1]/div/div/div[{d+1}]/div[1]/div[2]\")\n",
    "            next_button.click()\n",
    "        except Exception as e:\n",
    "            pass\n",
    "        \n",
    "        # !! problem with button to get nest days, click it but not complete go to the next day !!\n",
    "        \n",
    "        d += 1\n",
    "        scraped_day = ' '.join(date_elements[d].text.split()[2:5])\n",
    "        \n",
    "    # Scrape meal\n",
    "    meal_div = driver.find_elements(By.CSS_SELECTOR, 'div.meal')\n",
    "    meals = []\n",
    "    for meal in meal_div:\n",
    "        if meal.text != \"\":\n",
    "            meals.append(meal.text)\n",
    "    \n",
    "    if len(meals) == 2:\n",
    "        lunch = meals[0].replace('\\n', ' ')  # Ensure correct format for lunch\n",
    "        dinner = meals[1].replace('\\n', ' ')  # Ensure correct format for dinner\n",
    "    elif len(meals) == 1:\n",
    "        lunch = meals[0].replace('\\n', ' ')\n",
    "        dinner = \"\"\n",
    "    else:\n",
    "        lunch = \"\"\n",
    "        dinner = \"\"\n",
    "    \n",
    "    # Do dataframe\n",
    "    menuInfo[\"day\"].append(day)\n",
    "    menuInfo[\"lunch\"].append(lunch)\n",
    "    menuInfo[\"dinner\"].append(dinner)\n",
    "\n",
    "    driver.quit()\n",
    "    \n",
    "    return pd.DataFrame(menuInfo)"
   ]
  },
  {
   "cell_type": "code",
   "execution_count": 5,
   "id": "1e1aaff7",
   "metadata": {},
   "outputs": [
    {
     "name": "stdout",
     "output_type": "stream",
     "text": [
      "jeudi 17 octobre\n"
     ]
    },
    {
     "ename": "IndexError",
     "evalue": "list index out of range",
     "output_type": "error",
     "traceback": [
      "\u001b[1;31m---------------------------------------------------------------------------\u001b[0m",
      "\u001b[1;31mIndexError\u001b[0m                                Traceback (most recent call last)",
      "Input \u001b[1;32mIn [5]\u001b[0m, in \u001b[0;36m<cell line: 5>\u001b[1;34m()\u001b[0m\n\u001b[0;32m      2\u001b[0m \u001b[38;5;66;03m#day = get_today_date()\u001b[39;00m\n\u001b[0;32m      3\u001b[0m day \u001b[38;5;241m=\u001b[39m \u001b[38;5;124m'\u001b[39m\u001b[38;5;124mvendredi 18 octobre\u001b[39m\u001b[38;5;124m'\u001b[39m\n\u001b[1;32m----> 5\u001b[0m menuDB \u001b[38;5;241m=\u001b[39m \u001b[43mScrapeMenu\u001b[49m\u001b[43m(\u001b[49m\u001b[43mlink\u001b[49m\u001b[43m,\u001b[49m\u001b[43m \u001b[49m\u001b[43mday\u001b[49m\u001b[43m)\u001b[49m\n\u001b[0;32m      6\u001b[0m menuDB\n",
      "Input \u001b[1;32mIn [4]\u001b[0m, in \u001b[0;36mScrapeMenu\u001b[1;34m(link, day)\u001b[0m\n\u001b[0;32m     38\u001b[0m         \u001b[38;5;28;01mpass\u001b[39;00m\n\u001b[0;32m     40\u001b[0m     d \u001b[38;5;241m+\u001b[39m\u001b[38;5;241m=\u001b[39m \u001b[38;5;241m1\u001b[39m\n\u001b[1;32m---> 41\u001b[0m     scraped_day \u001b[38;5;241m=\u001b[39m \u001b[38;5;124m'\u001b[39m\u001b[38;5;124m \u001b[39m\u001b[38;5;124m'\u001b[39m\u001b[38;5;241m.\u001b[39mjoin(\u001b[43mdate_elements\u001b[49m\u001b[43m[\u001b[49m\u001b[43md\u001b[49m\u001b[43m]\u001b[49m\u001b[38;5;241m.\u001b[39mtext\u001b[38;5;241m.\u001b[39msplit()[\u001b[38;5;241m2\u001b[39m:\u001b[38;5;241m5\u001b[39m])\n\u001b[0;32m     43\u001b[0m \u001b[38;5;66;03m# Scrape meal\u001b[39;00m\n\u001b[0;32m     44\u001b[0m meal_div \u001b[38;5;241m=\u001b[39m driver\u001b[38;5;241m.\u001b[39mfind_elements(By\u001b[38;5;241m.\u001b[39mCSS_SELECTOR, \u001b[38;5;124m'\u001b[39m\u001b[38;5;124mdiv.meal\u001b[39m\u001b[38;5;124m'\u001b[39m)\n",
      "\u001b[1;31mIndexError\u001b[0m: list index out of range"
     ]
    }
   ],
   "source": [
    "link = \"https://www.crous-strasbourg.fr/restaurant/cafeteria-le-pege-2/\"\n",
    "#day = get_today_date()\n",
    "day = 'vendredi 18 octobre'\n",
    "\n",
    "menuDB = ScrapeMenu(link, day)\n",
    "menuDB"
   ]
  },
  {
   "cell_type": "code",
   "execution_count": null,
   "id": "8a08e723",
   "metadata": {},
   "outputs": [],
   "source": [
    "conn = sqlite3.connect('menu.db')\n",
    "menuDB.to_sql('my_table', conn, if_exists='replace', index=False)\n",
    "conn.close()"
   ]
  },
  {
   "cell_type": "markdown",
   "id": "b6711603",
   "metadata": {},
   "source": [
    "**AAAAAAAAAAAAAAAAHHHHHHHHHHHHHH**"
   ]
  },
  {
   "cell_type": "code",
   "execution_count": 2,
   "id": "71d38400",
   "metadata": {},
   "outputs": [],
   "source": [
    "link = \"https://www.crous-strasbourg.fr/restaurant/resto-u-gallia-2/\"\n",
    "#day = get_today_date()\n",
    "day = 'vendredi 18 octobre'\n",
    "\n",
    "menuInfo = {\"day\": [], \"lunch\": [], \"dinner\": []}\n",
    "\n",
    "driver = webdriver.Firefox()\n",
    "driver.get(link)\n",
    "\n",
    "# Cookies button\n",
    "try:\n",
    "    reject_all = driver.find_element(By.XPATH, \"/html/body/div[6]/div/div[2]/div/div[2]/button[1]\")\n",
    "    reject_all.click()\n",
    "except Exception:\n",
    "    try:\n",
    "        reject_all = driver.find_element(By.ID, \"tru_deselect_btn\")\n",
    "        reject_all.click()\n",
    "    except Exception:\n",
    "        pass"
   ]
  },
  {
   "cell_type": "code",
   "execution_count": 3,
   "id": "63d746cd",
   "metadata": {},
   "outputs": [],
   "source": [
    "# Find the right day\n",
    "d = 0\n",
    "date_elements = driver.find_elements(By.CSS_SELECTOR, 'time.menu_date_title')\n",
    "scraped_day = ' '.join(date_elements[d].text.split()[2:5])\n"
   ]
  },
  {
   "cell_type": "code",
   "execution_count": 4,
   "id": "0eb2ce0b",
   "metadata": {},
   "outputs": [
    {
     "data": {
      "text/plain": [
       "'jeudi 17 octobre'"
      ]
     },
     "execution_count": 4,
     "metadata": {},
     "output_type": "execute_result"
    }
   ],
   "source": [
    "' '.join(date_elements[0].text.split()[2:5])"
   ]
  },
  {
   "cell_type": "code",
   "execution_count": 5,
   "id": "5a50b10b",
   "metadata": {},
   "outputs": [
    {
     "data": {
      "text/plain": [
       "True"
      ]
     },
     "execution_count": 5,
     "metadata": {},
     "output_type": "execute_result"
    }
   ],
   "source": [
    "scraped_day != day"
   ]
  },
  {
   "cell_type": "code",
   "execution_count": 6,
   "id": "fd0442d2",
   "metadata": {},
   "outputs": [
    {
     "name": "stdout",
     "output_type": "stream",
     "text": [
      "jeudi 17 octobre vendredi 18 octobre\n"
     ]
    }
   ],
   "source": [
    "print(scraped_day, day)"
   ]
  },
  {
   "cell_type": "code",
   "execution_count": 7,
   "id": "3c169edb",
   "metadata": {},
   "outputs": [],
   "source": [
    "try:\n",
    "    next_button = driver.find_element(By.XPATH, f\"/html/body/article/div/section[1]/div/div/div[{d+1}]/div[1]/div[2]\")\n",
    "    next_button.click()\n",
    "except Exception as e:\n",
    "    pass"
   ]
  },
  {
   "cell_type": "code",
   "execution_count": 8,
   "id": "89dc7acc",
   "metadata": {},
   "outputs": [
    {
     "name": "stdout",
     "output_type": "stream",
     "text": [
      "vendredi 18 octobre vendredi 18 octobre\n"
     ]
    }
   ],
   "source": [
    "d = 1\n",
    "scraped_day = ' '.join(date_elements[d].text.split()[2:5])\n",
    "print(scraped_day, day)"
   ]
  },
  {
   "cell_type": "code",
   "execution_count": 9,
   "id": "e891f2db",
   "metadata": {},
   "outputs": [
    {
     "data": {
      "text/plain": [
       "False"
      ]
     },
     "execution_count": 9,
     "metadata": {},
     "output_type": "execute_result"
    }
   ],
   "source": [
    "scraped_day != day"
   ]
  }
 ],
 "metadata": {
  "kernelspec": {
   "display_name": "Python 3 (ipykernel)",
   "language": "python",
   "name": "python3"
  },
  "language_info": {
   "codemirror_mode": {
    "name": "ipython",
    "version": 3
   },
   "file_extension": ".py",
   "mimetype": "text/x-python",
   "name": "python",
   "nbconvert_exporter": "python",
   "pygments_lexer": "ipython3",
   "version": "3.9.12"
  }
 },
 "nbformat": 4,
 "nbformat_minor": 5
}
